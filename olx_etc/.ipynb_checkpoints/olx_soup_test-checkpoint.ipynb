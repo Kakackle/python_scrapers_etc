{
 "cells": [
  {
   "cell_type": "code",
   "execution_count": 1,
   "id": "fcd34a83-8d58-48b9-9bbd-ce24a78d9ba1",
   "metadata": {},
   "outputs": [
    {
     "name": "stdout",
     "output_type": "stream",
     "text": [
      "/d/oferta/lego-zestaw-nr-21328-seinfeld-CID88-IDTxpeV.html\n"
     ]
    }
   ],
   "source": [
    "import requests\n",
    "from bs4 import BeautifulSoup\n",
    "url = 'https://www.olx.pl/oferty/q-seinfeld/'\n",
    "response = requests.get(url)\n",
    "html = response.text\n",
    "soup = BeautifulSoup(html, 'html.parser')\n",
    "listing_grid = soup.find(class_='listing-grid-container')\n",
    "listings = listing_grid.find(class_=\"css-oukcj3\")\n",
    "listings_arr = listings.find_all(class_=\"css-1sw7q4x\")\n",
    "listing = listings_arr[0]\n",
    "listing_details = listing.find(class_=\"css-1apmciz\")\n",
    "# listing_price = listing_details.div.p.span.getText()\n",
    "listing_link = listing.find(class_=\"css-rc5s2u\").get('href')\n",
    "print(listing_link)\n"
   ]
  },
  {
   "cell_type": "code",
   "execution_count": null,
   "id": "e9ec83d4-a150-46ef-b7f1-6ad044259dc5",
   "metadata": {},
   "outputs": [],
   "source": []
  }
 ],
 "metadata": {
  "kernelspec": {
   "display_name": "venv",
   "language": "python",
   "name": "venv"
  },
  "language_info": {
   "codemirror_mode": {
    "name": "ipython",
    "version": 3
   },
   "file_extension": ".py",
   "mimetype": "text/x-python",
   "name": "python",
   "nbconvert_exporter": "python",
   "pygments_lexer": "ipython3",
   "version": "3.10.9"
  }
 },
 "nbformat": 4,
 "nbformat_minor": 5
}
