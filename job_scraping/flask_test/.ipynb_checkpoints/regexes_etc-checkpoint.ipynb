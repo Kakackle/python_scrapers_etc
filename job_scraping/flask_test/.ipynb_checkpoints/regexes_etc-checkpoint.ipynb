{
 "cells": [
  {
   "cell_type": "code",
   "execution_count": 1,
   "id": "1a0211e3-d15e-430d-a630-5be3816a4089",
   "metadata": {},
   "outputs": [],
   "source": [
    "import re"
   ]
  },
  {
   "cell_type": "code",
   "execution_count": null,
   "id": "db62f674-c18f-4a3f-b421-9f88b4eb711c",
   "metadata": {},
   "outputs": [],
   "source": [
    "date_regex = re.compile(r'(.*)(\\d{4}-\\d{2}-\\d{2})')"
   ]
  },
  {
   "cell_type": "code",
   "execution_count": null,
   "id": "4bdd09d7-123e-4251-aeb4-155dd1262c29",
   "metadata": {},
   "outputs": [],
   "source": [
    "test_texts = [\n",
    "    'python_django_vue_2023-12-06',\n",
    "    'python_2023-11-29']"
   ]
  },
  {
   "cell_type": "code",
   "execution_count": null,
   "id": "c3c3ddb7-bbf5-45cd-beb5-7f239815de85",
   "metadata": {},
   "outputs": [],
   "source": []
  }
 ],
 "metadata": {
  "kernelspec": {
   "display_name": "venv",
   "language": "python",
   "name": "venv"
  },
  "language_info": {
   "codemirror_mode": {
    "name": "ipython",
    "version": 3
   },
   "file_extension": ".py",
   "mimetype": "text/x-python",
   "name": "python",
   "nbconvert_exporter": "python",
   "pygments_lexer": "ipython3",
   "version": "3.10.9"
  }
 },
 "nbformat": 4,
 "nbformat_minor": 5
}
