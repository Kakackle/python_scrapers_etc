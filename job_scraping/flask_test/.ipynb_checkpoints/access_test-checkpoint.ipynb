{
 "cells": [
  {
   "cell_type": "markdown",
   "id": "1a512644-fd59-4c28-abe5-92724fecaf0f",
   "metadata": {},
   "source": [
    "### Test accessing things by name\n",
    "both as in get scraping results from adequate folders and get some visualizations and both as in launching scraping?"
   ]
  },
  {
   "cell_type": "code",
   "execution_count": 11,
   "id": "6fd9b4b4-62fb-4c26-b2bf-e2d0c754a868",
   "metadata": {},
   "outputs": [],
   "source": [
    "import os\n",
    "import glob\n",
    "import pandas as pd\n",
    "import matplotlib.pyplot as plt\n",
    "import seaborn as sns\n",
    "import re"
   ]
  },
  {
   "cell_type": "markdown",
   "id": "9a323797-04f1-4a4c-ab6a-4da3c58f40b6",
   "metadata": {},
   "source": [
    "#### specify the term (singular for now)"
   ]
  },
  {
   "cell_type": "code",
   "execution_count": 1,
   "id": "3882cee1-04bd-425d-8dab-48d19fdbe8df",
   "metadata": {},
   "outputs": [],
   "source": [
    "term = 'python'"
   ]
  },
  {
   "cell_type": "code",
   "execution_count": 5,
   "id": "0a1faf13-c76c-4a6e-9d17-e169b5525ad9",
   "metadata": {},
   "outputs": [
    {
     "data": {
      "text/plain": [
       "'C:\\\\Users\\\\User\\\\Desktop\\\\programowanie_web_etc\\\\python_projects\\\\scrapers\\\\job_scraping\\\\scraping_results'"
      ]
     },
     "execution_count": 5,
     "metadata": {},
     "output_type": "execute_result"
    }
   ],
   "source": [
    "os.getcwd()"
   ]
  },
  {
   "cell_type": "code",
   "execution_count": 4,
   "id": "2db05221-6a05-4ef8-ac6f-62b020c5625e",
   "metadata": {},
   "outputs": [],
   "source": [
    "os.chdir('../scraping_results')"
   ]
  },
  {
   "cell_type": "code",
   "execution_count": 6,
   "id": "e1a89498-8d23-429e-b520-66157d64c0b2",
   "metadata": {},
   "outputs": [
    {
     "data": {
      "text/plain": [
       "['.ipynb_checkpoints',\n",
       " 'all_data',\n",
       " 'combined',\n",
       " 'django',\n",
       " 'python',\n",
       " 'vue',\n",
       " '_other']"
      ]
     },
     "execution_count": 6,
     "metadata": {},
     "output_type": "execute_result"
    }
   ],
   "source": [
    "os.listdir()"
   ]
  },
  {
   "cell_type": "markdown",
   "id": "73aa9256-9900-42fd-8afa-bf0cc965d833",
   "metadata": {},
   "source": [
    "#### 1. Try getting from 'combined'"
   ]
  },
  {
   "cell_type": "code",
   "execution_count": 8,
   "id": "899ae88c-3947-4d54-af8b-e615ff6a56e9",
   "metadata": {},
   "outputs": [],
   "source": [
    "os.chdir('combined')"
   ]
  },
  {
   "cell_type": "code",
   "execution_count": 9,
   "id": "54d278fe-9e11-4af3-84e4-f37d775c64a4",
   "metadata": {},
   "outputs": [
    {
     "data": {
      "text/plain": [
       "['django', 'python', 'python_django', 'python_django_vue']"
      ]
     },
     "execution_count": 9,
     "metadata": {},
     "output_type": "execute_result"
    }
   ],
   "source": [
    "os.listdir()"
   ]
  },
  {
   "cell_type": "markdown",
   "id": "ad9f67ec-4a01-44df-bc5d-1d5c7d2011a2",
   "metadata": {},
   "source": [
    "#### Get latest .csv file within folder"
   ]
  },
  {
   "cell_type": "code",
   "execution_count": 25,
   "id": "1ae4dd32-50de-4d5c-ab73-0f58436e77c8",
   "metadata": {},
   "outputs": [
    {
     "name": "stdout",
     "output_type": "stream",
     "text": [
      "python\\python_2023-11-28.csv\n",
      "(6080, 10)\n"
     ]
    }
   ],
   "source": [
    "df = pd.DataFrame()\n",
    "if term in os.listdir():\n",
    "    files = glob.glob(f'{term}/*.csv')\n",
    "    latest_file = max(files, key=os.path.getmtime)\n",
    "    print(latest_file)\n",
    "    df = pd.read_csv(latest_file, index_col=0)\n",
    "    print(df.shape)\n",
    "else:\n",
    "    pass\n",
    "    # tutaj wywolywanie skryptu dokonujacego kombinacji scrapow"
   ]
  },
  {
   "cell_type": "markdown",
   "id": "215dba54-d915-49b5-bfa2-78968e46c0f2",
   "metadata": {},
   "source": [
    "#### Get file by date"
   ]
  },
  {
   "cell_type": "code",
   "execution_count": 26,
   "id": "cdba7a56-0b98-45f5-a110-0e78882526e3",
   "metadata": {},
   "outputs": [],
   "source": [
    "date = '2023-11-28'"
   ]
  },
  {
   "cell_type": "code",
   "execution_count": 32,
   "id": "b768ddbe-6a25-47b5-a0e7-b09d5143895f",
   "metadata": {},
   "outputs": [
    {
     "name": "stdout",
     "output_type": "stream",
     "text": [
      "['2023-11-25', '2023-11-27', '2023-11-28']\n"
     ]
    }
   ],
   "source": [
    "if term not in os.listdir():\n",
    "    print('no results for specified term, try scraping for it first')\n",
    "else:\n",
    "    os.chdir(term)\n",
    "    print(os.listdir())"
   ]
  },
  {
   "cell_type": "code",
   "execution_count": 33,
   "id": "83b5b1c7-9f16-42a2-9e93-e6ffbc36cd8d",
   "metadata": {},
   "outputs": [
    {
     "name": "stdout",
     "output_type": "stream",
     "text": [
      "['combined', 'individual']\n"
     ]
    }
   ],
   "source": [
    "if date not in os.listdir():\n",
    "    print('results for date not found, would you like to scrape for it?')\n",
    "else:\n",
    "    os.chdir(date)\n",
    "    print(os.listdir())"
   ]
  },
  {
   "cell_type": "code",
   "execution_count": 34,
   "id": "1c7b895e-77d0-4610-bdc7-240e94732d21",
   "metadata": {},
   "outputs": [],
   "source": [
    "os.chdir('combined')"
   ]
  },
  {
   "cell_type": "code",
   "execution_count": 36,
   "id": "947edb65-3fb2-4223-aa4b-109050827ce7",
   "metadata": {},
   "outputs": [
    {
     "data": {
      "text/plain": [
       "(140, 10)"
      ]
     },
     "execution_count": 36,
     "metadata": {},
     "output_type": "execute_result"
    }
   ],
   "source": [
    "date_df = pd.read_csv(os.listdir()[0], index_col=0)\n",
    "date_df.shape"
   ]
  }
 ],
 "metadata": {
  "kernelspec": {
   "display_name": "venv",
   "language": "python",
   "name": "venv"
  },
  "language_info": {
   "codemirror_mode": {
    "name": "ipython",
    "version": 3
   },
   "file_extension": ".py",
   "mimetype": "text/x-python",
   "name": "python",
   "nbconvert_exporter": "python",
   "pygments_lexer": "ipython3",
   "version": "3.10.9"
  }
 },
 "nbformat": 4,
 "nbformat_minor": 5
}
