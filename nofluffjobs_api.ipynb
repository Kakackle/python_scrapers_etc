{
 "cells": [
  {
   "cell_type": "code",
   "execution_count": 10,
   "id": "61156468-6f27-47b8-836d-0c9d7b5be5a4",
   "metadata": {},
   "outputs": [],
   "source": [
    "import requests\n",
    "import json\n",
    "import pandas as pd"
   ]
  },
  {
   "cell_type": "code",
   "execution_count": 2,
   "id": "0c9d78bd-7965-40a8-a392-ce6745409927",
   "metadata": {},
   "outputs": [],
   "source": [
    "url = \"https://nofluffjobs.com/api/search/posting?page=1&limit=50&salaryCurrency=PLN&salaryPeriod=month&region=pl\""
   ]
  },
  {
   "cell_type": "code",
   "execution_count": 3,
   "id": "6308983d-9e34-4a18-85b9-d88c3e982898",
   "metadata": {},
   "outputs": [],
   "source": [
    "payload = json.dumps({\n",
    "  \"rawSearch\": \"requirement=Python\"\n",
    "})\n",
    "headers = {\n",
    "  'authority': 'nofluffjobs.com',\n",
    "  'accept': 'application/json, text/plain, */*',\n",
    "  'accept-language': 'pl-PL,pl;q=0.9,en-US;q=0.8,en;q=0.7',\n",
    "  'cache-control': 'no-cache',\n",
    "  'content-type': 'application/postingSearch+json',\n",
    "  'cookie': 'nfj_visited_pl=true; lastSearches=true; OptanonAlertBoxClosed=2023-11-02T15:26:46.991Z; nfj_abt=cat3422%2C0%2C1%3Bldm4333%2C0%2C0%3Bpagesize%2C0%2C0; nfj_redirect_id=00d16475-3c5d-45f3-8ea1-0d8115160a5f; postingApplied_UC5ICGL1=true; nfj_policy_accepted=true; nfj_consents={%22consent_initialized%22:true%2C%22consent_analytics_storage%22:false%2C%22consent_ad_storage%22:false%2C%22consent_functionality_storage%22:false%2C%22onetrust_consent_id%22:%221fb66390-249c-4825-8551-d857cf557193%22%2C%22onetrust_geolocation%22:%22PL%22%2C%22consent_analytics_storage_date%22:%222023-10-25T09:47:48.968Z%22%2C%22consent_functionality_storage_date%22:%222023-10-25T09:47:48.968Z%22%2C%22consent_ad_storage_date%22:%222023-10-25T09:47:48.968Z%22%2C%22first_consent_selection%22:true%2C%22consent_selection_date%22:%222023-10-25T09:47:48.968Z%22}; AMP_MKTG_53ff6cd964=JTdCJTdE; nfj_new_user=true; nfj_session_id=88499a3d-5615-48ca-9bb0-69fd8a9c1fd4.1700752947104; _dcid=88499a3d-5615-48ca-9bb0-69fd8a9c1fd4; nfj_selected_region=PL; country_iso=US; OptanonConsent=isGpcEnabled=0&datestamp=Thu+Nov+23+2023+16%3A23%3A59+GMT%2B0100+(Central+European+Standard+Time)&version=202310.1.0&browserGpcFlag=0&isIABGlobal=false&hosts=&consentId=1fb66390-249c-4825-8551-d857cf557193&interactionCount=2&landingPath=NotLandingPage&AwaitingReconsent=false&groups=C0001%3A1%2CC0002%3A0%2CC0003%3A0%2CC0004%3A0&geolocation=PL%3B10; AMP_53ff6cd964=JTdCJTIyZGV2aWNlSWQlMjIlM0ElMjI4ODQ5OWEzZC01NjE1LTQ4Y2EtOWJiMC02OWZkOGE5YzFmZDQlMjIlMkMlMjJzZXNzaW9uSWQlMjIlM0ExNzAwNzUyOTQ3MTA0JTJDJTIyb3B0T3V0JTIyJTNBZmFsc2UlN0Q=; nfj_last=1700753048139; _dd_s=rum=2&id=7cc82860-2c42-40c2-b559-11a3c23d0017&created=1700752947384&expire=1700753949314',\n",
    "  'nfj-global-context': '{\"region\":\"PL\",\"lang\":\"pl\",\"global_is_employer_logged_in\":false,\"global_is_candidate_logged_in\":false,\"global_internal_traffic\":false,\"global_partnerId\":null,\"global_partnerInternalTraffic\":false,\"global_url\":\"https://nofluffjobs.com/pl/Python?page=1\",\"global_windowResolution\":\"649x919\",\"global_pixelRatio\":1,\"global_screenWidth\":1920,\"global_screenHeight\":1040,\"global_deviceCategory\":\"desktop\",\"global_deviceFamily\":\"Windows\",\"global_userAgent\":\"Mozilla/5.0 (Windows NT 10.0; Win64; x64) AppleWebKit/537.36 (KHTML, like Gecko) Chrome/119.0.0.0 Safari/537.36\",\"global_company_domain\":null}',\n",
    "  'origin': 'https://nofluffjobs.com',\n",
    "  'pragma': 'no-cache',\n",
    "  'referer': 'https://nofluffjobs.com/pl/Python?page=1',\n",
    "  'sec-ch-ua': '\"Google Chrome\";v=\"119\", \"Chromium\";v=\"119\", \"Not?A_Brand\";v=\"24\"',\n",
    "  'sec-ch-ua-mobile': '?0',\n",
    "  'sec-ch-ua-platform': '\"Windows\"',\n",
    "  'sec-fetch-dest': 'empty',\n",
    "  'sec-fetch-mode': 'cors',\n",
    "  'sec-fetch-site': 'same-origin',\n",
    "  'user-agent': 'Mozilla/5.0 (Windows NT 10.0; Win64; x64) AppleWebKit/537.36 (KHTML, like Gecko) Chrome/119.0.0.0 Safari/537.36',\n",
    "  'x-datadog-origin': 'rum',\n",
    "  'x-datadog-parent-id': '8273576369410968673',\n",
    "  'x-datadog-sampling-priority': '1',\n",
    "  'x-datadog-trace-id': '776451047921066142'\n",
    "}"
   ]
  },
  {
   "cell_type": "code",
   "execution_count": 5,
   "id": "dbdb80c7-8024-4d04-917a-c4658b5109ab",
   "metadata": {},
   "outputs": [],
   "source": [
    "response = requests.request(\"POST\", url, headers=headers, data=payload)\n",
    "\n",
    "# print(response.text)"
   ]
  },
  {
   "cell_type": "code",
   "execution_count": 6,
   "id": "7017f3aa-e145-48eb-9c4a-e00912ba18b9",
   "metadata": {},
   "outputs": [],
   "source": [
    "json_data = response.json()\n",
    "postings = json_data['postings']\n",
    "total_count = json_data['totalCount']\n",
    "total_pages = json_data['totalPages']"
   ]
  },
  {
   "cell_type": "code",
   "execution_count": 7,
   "id": "c1fc064b-6dad-48a3-9ebc-61a0aa7fba4a",
   "metadata": {},
   "outputs": [
    {
     "data": {
      "text/plain": [
       "480"
      ]
     },
     "execution_count": 7,
     "metadata": {},
     "output_type": "execute_result"
    }
   ],
   "source": [
    "len(postings)"
   ]
  },
  {
   "cell_type": "code",
   "execution_count": 8,
   "id": "c5034efa-5fe3-49c2-84f9-d467a6044bc1",
   "metadata": {},
   "outputs": [
    {
     "data": {
      "text/plain": [
       "9"
      ]
     },
     "execution_count": 8,
     "metadata": {},
     "output_type": "execute_result"
    }
   ],
   "source": [
    "total_pages"
   ]
  },
  {
   "cell_type": "code",
   "execution_count": 11,
   "id": "10007b47-34fc-4d6f-9ef3-4959fb802976",
   "metadata": {},
   "outputs": [],
   "source": [
    "initial_fluff_postings = pd.json_normalize(postings)\n",
    "initial_fluff_postings.to_csv('initial_fluff_postings.csv')"
   ]
  },
  {
   "cell_type": "code",
   "execution_count": 12,
   "id": "030608c8-248b-4716-9e5d-7b90c00f071a",
   "metadata": {},
   "outputs": [
    {
     "name": "stdout",
     "output_type": "stream",
     "text": [
      "page postings:  480\n",
      "page postings:  480\n",
      "page postings:  480\n",
      "postings half:  1440\n"
     ]
    }
   ],
   "source": [
    "postings_half = [] #for safety reasons\n",
    "for page in range(1, total_pages//2):\n",
    "    page_url = f\"https://nofluffjobs.com/api/search/posting?page={page}&limit=50&salaryCurrency=PLN&salaryPeriod=month&region=pl\"\n",
    "    page_r = requests.request(\"POST\", url, headers=headers, data=payload)\n",
    "    page_data = page_r.json()\n",
    "    page_postings = page_data['postings']\n",
    "    for post in page_postings:\n",
    "        postings_half.append(post)\n",
    "    print('page postings: ',len(page_postings))\n",
    "print('postings half: ', len(postings_half))"
   ]
  },
  {
   "cell_type": "code",
   "execution_count": 13,
   "id": "d294d47b-1fed-42bc-81ff-5b0018facaa1",
   "metadata": {},
   "outputs": [],
   "source": [
    "half_df = pd.json_normalize(postings_half)\n",
    "half_df.to_csv(f'fluff_python_half.csv')"
   ]
  },
  {
   "cell_type": "code",
   "execution_count": 14,
   "id": "352629df-1427-48c2-a70f-2e42d7be9b6a",
   "metadata": {
    "scrolled": true
   },
   "outputs": [
    {
     "data": {
      "text/html": [
       "<div>\n",
       "<style scoped>\n",
       "    .dataframe tbody tr th:only-of-type {\n",
       "        vertical-align: middle;\n",
       "    }\n",
       "\n",
       "    .dataframe tbody tr th {\n",
       "        vertical-align: top;\n",
       "    }\n",
       "\n",
       "    .dataframe thead th {\n",
       "        text-align: right;\n",
       "    }\n",
       "</style>\n",
       "<table border=\"1\" class=\"dataframe\">\n",
       "  <thead>\n",
       "    <tr style=\"text-align: right;\">\n",
       "      <th></th>\n",
       "      <th>id</th>\n",
       "      <th>name</th>\n",
       "      <th>posted</th>\n",
       "      <th>renewed</th>\n",
       "      <th>title</th>\n",
       "      <th>technology</th>\n",
       "      <th>category</th>\n",
       "      <th>seniority</th>\n",
       "      <th>url</th>\n",
       "      <th>regions</th>\n",
       "      <th>...</th>\n",
       "      <th>logo.companies_details_webp</th>\n",
       "      <th>logo.companies_listing_webp</th>\n",
       "      <th>logo.companies_details_2x_webp</th>\n",
       "      <th>logo.companies_listing_2x_webp</th>\n",
       "      <th>salary.from</th>\n",
       "      <th>salary.to</th>\n",
       "      <th>salary.type</th>\n",
       "      <th>salary.currency</th>\n",
       "      <th>referralBonus</th>\n",
       "      <th>referralBonusCurrency</th>\n",
       "    </tr>\n",
       "  </thead>\n",
       "  <tbody>\n",
       "    <tr>\n",
       "      <th>0</th>\n",
       "      <td>senior-python-developer-lingaro-Remote</td>\n",
       "      <td>Lingaro</td>\n",
       "      <td>1700492496966</td>\n",
       "      <td>1.700752e+12</td>\n",
       "      <td>Senior Python Developer</td>\n",
       "      <td>Python</td>\n",
       "      <td>backend</td>\n",
       "      <td>[Senior]</td>\n",
       "      <td>senior-python-developer-lingaro-remote-2</td>\n",
       "      <td>[pl]</td>\n",
       "      <td>...</td>\n",
       "      <td>companies/logos/companies_details/logonormal_2...</td>\n",
       "      <td>companies/logos/companies_listing/logonormal_2...</td>\n",
       "      <td>companies/logos/companies_details_2x/logonorma...</td>\n",
       "      <td>companies/logos/companies_listing_2x/logonorma...</td>\n",
       "      <td>20160.0</td>\n",
       "      <td>26040.0</td>\n",
       "      <td>b2b</td>\n",
       "      <td>PLN</td>\n",
       "      <td>NaN</td>\n",
       "      <td>NaN</td>\n",
       "    </tr>\n",
       "    <tr>\n",
       "      <th>1</th>\n",
       "      <td>senior-python-developer-lingaro-Warsaw</td>\n",
       "      <td>Lingaro</td>\n",
       "      <td>1700492496966</td>\n",
       "      <td>1.700752e+12</td>\n",
       "      <td>Senior Python Developer</td>\n",
       "      <td>Python</td>\n",
       "      <td>backend</td>\n",
       "      <td>[Senior]</td>\n",
       "      <td>senior-python-developer-lingaro-warsaw-1</td>\n",
       "      <td>[pl]</td>\n",
       "      <td>...</td>\n",
       "      <td>companies/logos/companies_details/logonormal_2...</td>\n",
       "      <td>companies/logos/companies_listing/logonormal_2...</td>\n",
       "      <td>companies/logos/companies_details_2x/logonorma...</td>\n",
       "      <td>companies/logos/companies_listing_2x/logonorma...</td>\n",
       "      <td>20160.0</td>\n",
       "      <td>26040.0</td>\n",
       "      <td>b2b</td>\n",
       "      <td>PLN</td>\n",
       "      <td>NaN</td>\n",
       "      <td>NaN</td>\n",
       "    </tr>\n",
       "    <tr>\n",
       "      <th>2</th>\n",
       "      <td>senior-python-developer-lingaro-lower-silesian</td>\n",
       "      <td>Lingaro</td>\n",
       "      <td>1700492496966</td>\n",
       "      <td>1.700752e+12</td>\n",
       "      <td>Senior Python Developer</td>\n",
       "      <td>Python</td>\n",
       "      <td>backend</td>\n",
       "      <td>[Senior]</td>\n",
       "      <td>senior-python-developer-lingaro-lower-silesian</td>\n",
       "      <td>[pl]</td>\n",
       "      <td>...</td>\n",
       "      <td>companies/logos/companies_details/logonormal_2...</td>\n",
       "      <td>companies/logos/companies_listing/logonormal_2...</td>\n",
       "      <td>companies/logos/companies_details_2x/logonorma...</td>\n",
       "      <td>companies/logos/companies_listing_2x/logonorma...</td>\n",
       "      <td>20160.0</td>\n",
       "      <td>26040.0</td>\n",
       "      <td>b2b</td>\n",
       "      <td>PLN</td>\n",
       "      <td>NaN</td>\n",
       "      <td>NaN</td>\n",
       "    </tr>\n",
       "    <tr>\n",
       "      <th>3</th>\n",
       "      <td>senior-python-developer-lingaro-kuyavian-pomer...</td>\n",
       "      <td>Lingaro</td>\n",
       "      <td>1700492496966</td>\n",
       "      <td>1.700752e+12</td>\n",
       "      <td>Senior Python Developer</td>\n",
       "      <td>Python</td>\n",
       "      <td>backend</td>\n",
       "      <td>[Senior]</td>\n",
       "      <td>senior-python-developer-lingaro-kuyavian-pomer...</td>\n",
       "      <td>[pl]</td>\n",
       "      <td>...</td>\n",
       "      <td>companies/logos/companies_details/logonormal_2...</td>\n",
       "      <td>companies/logos/companies_listing/logonormal_2...</td>\n",
       "      <td>companies/logos/companies_details_2x/logonorma...</td>\n",
       "      <td>companies/logos/companies_listing_2x/logonorma...</td>\n",
       "      <td>20160.0</td>\n",
       "      <td>26040.0</td>\n",
       "      <td>b2b</td>\n",
       "      <td>PLN</td>\n",
       "      <td>NaN</td>\n",
       "      <td>NaN</td>\n",
       "    </tr>\n",
       "    <tr>\n",
       "      <th>4</th>\n",
       "      <td>senior-python-developer-lingaro-lodz</td>\n",
       "      <td>Lingaro</td>\n",
       "      <td>1700492496966</td>\n",
       "      <td>1.700752e+12</td>\n",
       "      <td>Senior Python Developer</td>\n",
       "      <td>Python</td>\n",
       "      <td>backend</td>\n",
       "      <td>[Senior]</td>\n",
       "      <td>senior-python-developer-lingaro-lodz</td>\n",
       "      <td>[pl]</td>\n",
       "      <td>...</td>\n",
       "      <td>companies/logos/companies_details/logonormal_2...</td>\n",
       "      <td>companies/logos/companies_listing/logonormal_2...</td>\n",
       "      <td>companies/logos/companies_details_2x/logonorma...</td>\n",
       "      <td>companies/logos/companies_listing_2x/logonorma...</td>\n",
       "      <td>20160.0</td>\n",
       "      <td>26040.0</td>\n",
       "      <td>b2b</td>\n",
       "      <td>PLN</td>\n",
       "      <td>NaN</td>\n",
       "      <td>NaN</td>\n",
       "    </tr>\n",
       "  </tbody>\n",
       "</table>\n",
       "<p>5 rows × 45 columns</p>\n",
       "</div>"
      ],
      "text/plain": [
       "                                                  id     name         posted  \\\n",
       "0             senior-python-developer-lingaro-Remote  Lingaro  1700492496966   \n",
       "1             senior-python-developer-lingaro-Warsaw  Lingaro  1700492496966   \n",
       "2     senior-python-developer-lingaro-lower-silesian  Lingaro  1700492496966   \n",
       "3  senior-python-developer-lingaro-kuyavian-pomer...  Lingaro  1700492496966   \n",
       "4               senior-python-developer-lingaro-lodz  Lingaro  1700492496966   \n",
       "\n",
       "        renewed                     title technology category seniority  \\\n",
       "0  1.700752e+12  Senior Python Developer      Python  backend  [Senior]   \n",
       "1  1.700752e+12  Senior Python Developer      Python  backend  [Senior]   \n",
       "2  1.700752e+12  Senior Python Developer      Python  backend  [Senior]   \n",
       "3  1.700752e+12  Senior Python Developer      Python  backend  [Senior]   \n",
       "4  1.700752e+12  Senior Python Developer      Python  backend  [Senior]   \n",
       "\n",
       "                                                 url regions  ...  \\\n",
       "0           senior-python-developer-lingaro-remote-2    [pl]  ...   \n",
       "1           senior-python-developer-lingaro-warsaw-1    [pl]  ...   \n",
       "2     senior-python-developer-lingaro-lower-silesian    [pl]  ...   \n",
       "3  senior-python-developer-lingaro-kuyavian-pomer...    [pl]  ...   \n",
       "4               senior-python-developer-lingaro-lodz    [pl]  ...   \n",
       "\n",
       "                         logo.companies_details_webp  \\\n",
       "0  companies/logos/companies_details/logonormal_2...   \n",
       "1  companies/logos/companies_details/logonormal_2...   \n",
       "2  companies/logos/companies_details/logonormal_2...   \n",
       "3  companies/logos/companies_details/logonormal_2...   \n",
       "4  companies/logos/companies_details/logonormal_2...   \n",
       "\n",
       "                         logo.companies_listing_webp  \\\n",
       "0  companies/logos/companies_listing/logonormal_2...   \n",
       "1  companies/logos/companies_listing/logonormal_2...   \n",
       "2  companies/logos/companies_listing/logonormal_2...   \n",
       "3  companies/logos/companies_listing/logonormal_2...   \n",
       "4  companies/logos/companies_listing/logonormal_2...   \n",
       "\n",
       "                      logo.companies_details_2x_webp  \\\n",
       "0  companies/logos/companies_details_2x/logonorma...   \n",
       "1  companies/logos/companies_details_2x/logonorma...   \n",
       "2  companies/logos/companies_details_2x/logonorma...   \n",
       "3  companies/logos/companies_details_2x/logonorma...   \n",
       "4  companies/logos/companies_details_2x/logonorma...   \n",
       "\n",
       "                      logo.companies_listing_2x_webp  salary.from salary.to  \\\n",
       "0  companies/logos/companies_listing_2x/logonorma...      20160.0   26040.0   \n",
       "1  companies/logos/companies_listing_2x/logonorma...      20160.0   26040.0   \n",
       "2  companies/logos/companies_listing_2x/logonorma...      20160.0   26040.0   \n",
       "3  companies/logos/companies_listing_2x/logonorma...      20160.0   26040.0   \n",
       "4  companies/logos/companies_listing_2x/logonorma...      20160.0   26040.0   \n",
       "\n",
       "   salary.type  salary.currency referralBonus  referralBonusCurrency  \n",
       "0          b2b              PLN           NaN                    NaN  \n",
       "1          b2b              PLN           NaN                    NaN  \n",
       "2          b2b              PLN           NaN                    NaN  \n",
       "3          b2b              PLN           NaN                    NaN  \n",
       "4          b2b              PLN           NaN                    NaN  \n",
       "\n",
       "[5 rows x 45 columns]"
      ]
     },
     "execution_count": 14,
     "metadata": {},
     "output_type": "execute_result"
    }
   ],
   "source": [
    "half_df.head()"
   ]
  }
 ],
 "metadata": {
  "kernelspec": {
   "display_name": "venv",
   "language": "python",
   "name": "venv"
  },
  "language_info": {
   "codemirror_mode": {
    "name": "ipython",
    "version": 3
   },
   "file_extension": ".py",
   "mimetype": "text/x-python",
   "name": "python",
   "nbconvert_exporter": "python",
   "pygments_lexer": "ipython3",
   "version": "3.10.9"
  }
 },
 "nbformat": 4,
 "nbformat_minor": 5
}
