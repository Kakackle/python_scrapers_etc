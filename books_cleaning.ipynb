{
 "cells": [
  {
   "cell_type": "markdown",
   "id": "facd03fa-949f-483a-a685-31b658834aae",
   "metadata": {},
   "source": [
    "# Amazon CS books dataset"
   ]
  },
  {
   "cell_type": "code",
   "execution_count": 1,
   "id": "d9ffa8fc-4844-4375-8d60-16f61da07e65",
   "metadata": {},
   "outputs": [],
   "source": [
    "import pandas as pd\n",
    "import matplotlib.pyplot as plt"
   ]
  },
  {
   "cell_type": "code",
   "execution_count": 2,
   "id": "e73af3d6-ca81-401a-b7ba-06b82c073364",
   "metadata": {},
   "outputs": [
    {
     "data": {
      "text/html": [
       "<div>\n",
       "<style scoped>\n",
       "    .dataframe tbody tr th:only-of-type {\n",
       "        vertical-align: middle;\n",
       "    }\n",
       "\n",
       "    .dataframe tbody tr th {\n",
       "        vertical-align: top;\n",
       "    }\n",
       "\n",
       "    .dataframe thead th {\n",
       "        text-align: right;\n",
       "    }\n",
       "</style>\n",
       "<table border=\"1\" class=\"dataframe\">\n",
       "  <thead>\n",
       "    <tr style=\"text-align: right;\">\n",
       "      <th></th>\n",
       "      <th>title</th>\n",
       "      <th>description</th>\n",
       "      <th>author</th>\n",
       "      <th>isbn10</th>\n",
       "      <th>isbn13</th>\n",
       "      <th>publish_date</th>\n",
       "      <th>edition</th>\n",
       "      <th>best_seller</th>\n",
       "      <th>top_rated</th>\n",
       "      <th>rating</th>\n",
       "      <th>review_count</th>\n",
       "      <th>price</th>\n",
       "    </tr>\n",
       "  </thead>\n",
       "  <tbody>\n",
       "    <tr>\n",
       "      <th>0</th>\n",
       "      <td>The Staff Engineer's Path</td>\n",
       "      <td>A Guide for Individual Contributors Navigating...</td>\n",
       "      <td>Tanya Reilly</td>\n",
       "      <td>1098118731</td>\n",
       "      <td>978-1098118730</td>\n",
       "      <td>2022-10-25</td>\n",
       "      <td>1</td>\n",
       "      <td>yes</td>\n",
       "      <td>no</td>\n",
       "      <td>4,7</td>\n",
       "      <td>189.0</td>\n",
       "      <td>31,99</td>\n",
       "    </tr>\n",
       "    <tr>\n",
       "      <th>1</th>\n",
       "      <td>Cracking the Coding Interview</td>\n",
       "      <td>189 Programming Questions and Solutions</td>\n",
       "      <td>Gayle Laakmann McDowell</td>\n",
       "      <td>984782869</td>\n",
       "      <td>978-0984782857</td>\n",
       "      <td>2015-07-01</td>\n",
       "      <td>6</td>\n",
       "      <td>yes</td>\n",
       "      <td>no</td>\n",
       "      <td>4,7</td>\n",
       "      <td>8334.0</td>\n",
       "      <td>33,21</td>\n",
       "    </tr>\n",
       "    <tr>\n",
       "      <th>2</th>\n",
       "      <td>Python Crash Course, 3rd Edition</td>\n",
       "      <td>A Hands-On, Project-Based Introduction to Prog...</td>\n",
       "      <td>Eric Matthes</td>\n",
       "      <td>1718502702</td>\n",
       "      <td>978-1718502703</td>\n",
       "      <td>2023-01-10</td>\n",
       "      <td>3</td>\n",
       "      <td>yes</td>\n",
       "      <td>no</td>\n",
       "      <td>4,8</td>\n",
       "      <td>165.0</td>\n",
       "      <td>30,61</td>\n",
       "    </tr>\n",
       "    <tr>\n",
       "      <th>3</th>\n",
       "      <td>The Pragmatic Programmer</td>\n",
       "      <td>20th Anniversary Edition, 2nd Edition: Your Jo...</td>\n",
       "      <td>David Thomas</td>\n",
       "      <td>NaN</td>\n",
       "      <td>978-0135957059</td>\n",
       "      <td>2019-09-13</td>\n",
       "      <td>2</td>\n",
       "      <td>yes</td>\n",
       "      <td>no</td>\n",
       "      <td>4,8</td>\n",
       "      <td>2521.0</td>\n",
       "      <td>38</td>\n",
       "    </tr>\n",
       "    <tr>\n",
       "      <th>4</th>\n",
       "      <td>Clean Code</td>\n",
       "      <td>A Handbook of Agile Software Craftsmanship</td>\n",
       "      <td>Robert C, Martin</td>\n",
       "      <td>NaN</td>\n",
       "      <td>978-0132350884</td>\n",
       "      <td>2008-08-01</td>\n",
       "      <td>1</td>\n",
       "      <td>yes</td>\n",
       "      <td>no</td>\n",
       "      <td>4,7</td>\n",
       "      <td>5639.0</td>\n",
       "      <td>40</td>\n",
       "    </tr>\n",
       "  </tbody>\n",
       "</table>\n",
       "</div>"
      ],
      "text/plain": [
       "                              title  \\\n",
       "0         The Staff Engineer's Path   \n",
       "1     Cracking the Coding Interview   \n",
       "2  Python Crash Course, 3rd Edition   \n",
       "3          The Pragmatic Programmer   \n",
       "4                        Clean Code   \n",
       "\n",
       "                                         description                   author  \\\n",
       "0  A Guide for Individual Contributors Navigating...             Tanya Reilly   \n",
       "1            189 Programming Questions and Solutions  Gayle Laakmann McDowell   \n",
       "2  A Hands-On, Project-Based Introduction to Prog...             Eric Matthes   \n",
       "3  20th Anniversary Edition, 2nd Edition: Your Jo...             David Thomas   \n",
       "4         A Handbook of Agile Software Craftsmanship         Robert C, Martin   \n",
       "\n",
       "       isbn10          isbn13 publish_date edition best_seller top_rated   \\\n",
       "0  1098118731  978-1098118730   2022-10-25       1         yes         no   \n",
       "1   984782869  978-0984782857   2015-07-01       6         yes         no   \n",
       "2  1718502702  978-1718502703   2023-01-10       3         yes         no   \n",
       "3         NaN  978-0135957059   2019-09-13       2         yes         no   \n",
       "4         NaN  978-0132350884   2008-08-01       1         yes         no   \n",
       "\n",
       "  rating  review_count  price  \n",
       "0    4,7         189.0  31,99  \n",
       "1    4,7        8334.0  33,21  \n",
       "2    4,8         165.0  30,61  \n",
       "3    4,8        2521.0     38  \n",
       "4    4,7        5639.0     40  "
      ]
     },
     "execution_count": 2,
     "metadata": {},
     "output_type": "execute_result"
    }
   ],
   "source": [
    "books = pd.read_csv('./books.csv', parse_dates=True)\n",
    "books.head(5)"
   ]
  },
  {
   "cell_type": "markdown",
   "id": "3da8f23f-ca02-4ace-a4de-0a7d004e37d5",
   "metadata": {},
   "source": [
    "### Check the count of null values in each Column"
   ]
  },
  {
   "cell_type": "code",
   "execution_count": 3,
   "id": "f76c1c9d-446b-42d3-87f4-354de0a9951e",
   "metadata": {},
   "outputs": [
    {
     "data": {
      "text/html": [
       "<div>\n",
       "<style scoped>\n",
       "    .dataframe tbody tr th:only-of-type {\n",
       "        vertical-align: middle;\n",
       "    }\n",
       "\n",
       "    .dataframe tbody tr th {\n",
       "        vertical-align: top;\n",
       "    }\n",
       "\n",
       "    .dataframe thead th {\n",
       "        text-align: right;\n",
       "    }\n",
       "</style>\n",
       "<table border=\"1\" class=\"dataframe\">\n",
       "  <thead>\n",
       "    <tr style=\"text-align: right;\">\n",
       "      <th></th>\n",
       "      <th>title</th>\n",
       "      <th>description</th>\n",
       "      <th>author</th>\n",
       "      <th>isbn10</th>\n",
       "      <th>isbn13</th>\n",
       "      <th>publish_date</th>\n",
       "      <th>edition</th>\n",
       "      <th>best_seller</th>\n",
       "      <th>top_rated</th>\n",
       "      <th>rating</th>\n",
       "      <th>review_count</th>\n",
       "      <th>price</th>\n",
       "    </tr>\n",
       "  </thead>\n",
       "  <tbody>\n",
       "    <tr>\n",
       "      <th>0</th>\n",
       "      <td>1</td>\n",
       "      <td>80</td>\n",
       "      <td>2</td>\n",
       "      <td>101</td>\n",
       "      <td>2</td>\n",
       "      <td>4</td>\n",
       "      <td>3</td>\n",
       "      <td>0</td>\n",
       "      <td>0</td>\n",
       "      <td>4</td>\n",
       "      <td>4</td>\n",
       "      <td>3</td>\n",
       "    </tr>\n",
       "  </tbody>\n",
       "</table>\n",
       "</div>"
      ],
      "text/plain": [
       "   title  description  author  isbn10  isbn13  publish_date  edition  \\\n",
       "0      1           80       2     101       2             4        3   \n",
       "\n",
       "   best_seller  top_rated   rating  review_count  price  \n",
       "0            0           0       4             4      3  "
      ]
     },
     "execution_count": 3,
     "metadata": {},
     "output_type": "execute_result"
    }
   ],
   "source": [
    "null_count = books.isna().sum()\n",
    "null_count = pd.DataFrame(null_count)\n",
    "# print(null_count.index)\n",
    "# print(null_count.columns)\n",
    "# null_count[1] = 0\n",
    "null_count = null_count.T\n",
    "# null_count.rename(columns={0: \"null_count\"}, inplace=True)\n",
    "null_count\n",
    "# null_count.set_index('null_count')"
   ]
  },
  {
   "cell_type": "code",
   "execution_count": 4,
   "id": "80726a3b-97dd-472d-aae7-3b6761918b01",
   "metadata": {},
   "outputs": [
    {
     "data": {
      "text/html": [
       "<div>\n",
       "<style scoped>\n",
       "    .dataframe tbody tr th:only-of-type {\n",
       "        vertical-align: middle;\n",
       "    }\n",
       "\n",
       "    .dataframe tbody tr th {\n",
       "        vertical-align: top;\n",
       "    }\n",
       "\n",
       "    .dataframe thead th {\n",
       "        text-align: right;\n",
       "    }\n",
       "</style>\n",
       "<table border=\"1\" class=\"dataframe\">\n",
       "  <thead>\n",
       "    <tr style=\"text-align: right;\">\n",
       "      <th></th>\n",
       "      <th>title</th>\n",
       "      <th>description</th>\n",
       "      <th>author</th>\n",
       "      <th>isbn10</th>\n",
       "      <th>isbn13</th>\n",
       "      <th>publish_date</th>\n",
       "      <th>edition</th>\n",
       "      <th>best_seller</th>\n",
       "      <th>top_rated</th>\n",
       "      <th>rating</th>\n",
       "      <th>review_count</th>\n",
       "      <th>price</th>\n",
       "    </tr>\n",
       "  </thead>\n",
       "  <tbody>\n",
       "    <tr>\n",
       "      <th>0</th>\n",
       "      <td>The Staff Engineer's Path</td>\n",
       "      <td>A Guide for Individual Contributors Navigating...</td>\n",
       "      <td>Tanya Reilly</td>\n",
       "      <td>1098118731</td>\n",
       "      <td>978-1098118730</td>\n",
       "      <td>2022-10-25</td>\n",
       "      <td>1</td>\n",
       "      <td>yes</td>\n",
       "      <td>no</td>\n",
       "      <td>4,7</td>\n",
       "      <td>189.0</td>\n",
       "      <td>31,99</td>\n",
       "    </tr>\n",
       "    <tr>\n",
       "      <th>1</th>\n",
       "      <td>Cracking the Coding Interview</td>\n",
       "      <td>189 Programming Questions and Solutions</td>\n",
       "      <td>Gayle Laakmann McDowell</td>\n",
       "      <td>984782869</td>\n",
       "      <td>978-0984782857</td>\n",
       "      <td>2015-07-01</td>\n",
       "      <td>6</td>\n",
       "      <td>yes</td>\n",
       "      <td>no</td>\n",
       "      <td>4,7</td>\n",
       "      <td>8334.0</td>\n",
       "      <td>33,21</td>\n",
       "    </tr>\n",
       "    <tr>\n",
       "      <th>2</th>\n",
       "      <td>Python Crash Course, 3rd Edition</td>\n",
       "      <td>A Hands-On, Project-Based Introduction to Prog...</td>\n",
       "      <td>Eric Matthes</td>\n",
       "      <td>1718502702</td>\n",
       "      <td>978-1718502703</td>\n",
       "      <td>2023-01-10</td>\n",
       "      <td>3</td>\n",
       "      <td>yes</td>\n",
       "      <td>no</td>\n",
       "      <td>4,8</td>\n",
       "      <td>165.0</td>\n",
       "      <td>30,61</td>\n",
       "    </tr>\n",
       "    <tr>\n",
       "      <th>3</th>\n",
       "      <td>The Pragmatic Programmer</td>\n",
       "      <td>20th Anniversary Edition, 2nd Edition: Your Jo...</td>\n",
       "      <td>David Thomas</td>\n",
       "      <td>NaN</td>\n",
       "      <td>978-0135957059</td>\n",
       "      <td>2019-09-13</td>\n",
       "      <td>2</td>\n",
       "      <td>yes</td>\n",
       "      <td>no</td>\n",
       "      <td>4,8</td>\n",
       "      <td>2521.0</td>\n",
       "      <td>38</td>\n",
       "    </tr>\n",
       "    <tr>\n",
       "      <th>4</th>\n",
       "      <td>Clean Code</td>\n",
       "      <td>A Handbook of Agile Software Craftsmanship</td>\n",
       "      <td>Robert C, Martin</td>\n",
       "      <td>NaN</td>\n",
       "      <td>978-0132350884</td>\n",
       "      <td>2008-08-01</td>\n",
       "      <td>1</td>\n",
       "      <td>yes</td>\n",
       "      <td>no</td>\n",
       "      <td>4,7</td>\n",
       "      <td>5639.0</td>\n",
       "      <td>40</td>\n",
       "    </tr>\n",
       "    <tr>\n",
       "      <th>0</th>\n",
       "      <td>1</td>\n",
       "      <td>80</td>\n",
       "      <td>2</td>\n",
       "      <td>101</td>\n",
       "      <td>2</td>\n",
       "      <td>4</td>\n",
       "      <td>3</td>\n",
       "      <td>0</td>\n",
       "      <td>0</td>\n",
       "      <td>4</td>\n",
       "      <td>4.0</td>\n",
       "      <td>3</td>\n",
       "    </tr>\n",
       "  </tbody>\n",
       "</table>\n",
       "</div>"
      ],
      "text/plain": [
       "                              title  \\\n",
       "0         The Staff Engineer's Path   \n",
       "1     Cracking the Coding Interview   \n",
       "2  Python Crash Course, 3rd Edition   \n",
       "3          The Pragmatic Programmer   \n",
       "4                        Clean Code   \n",
       "0                                 1   \n",
       "\n",
       "                                         description                   author  \\\n",
       "0  A Guide for Individual Contributors Navigating...             Tanya Reilly   \n",
       "1            189 Programming Questions and Solutions  Gayle Laakmann McDowell   \n",
       "2  A Hands-On, Project-Based Introduction to Prog...             Eric Matthes   \n",
       "3  20th Anniversary Edition, 2nd Edition: Your Jo...             David Thomas   \n",
       "4         A Handbook of Agile Software Craftsmanship         Robert C, Martin   \n",
       "0                                                 80                        2   \n",
       "\n",
       "       isbn10          isbn13 publish_date edition best_seller top_rated   \\\n",
       "0  1098118731  978-1098118730   2022-10-25       1         yes         no   \n",
       "1   984782869  978-0984782857   2015-07-01       6         yes         no   \n",
       "2  1718502702  978-1718502703   2023-01-10       3         yes         no   \n",
       "3         NaN  978-0135957059   2019-09-13       2         yes         no   \n",
       "4         NaN  978-0132350884   2008-08-01       1         yes         no   \n",
       "0         101               2            4       3           0          0   \n",
       "\n",
       "  rating  review_count  price  \n",
       "0    4,7         189.0  31,99  \n",
       "1    4,7        8334.0  33,21  \n",
       "2    4,8         165.0  30,61  \n",
       "3    4,8        2521.0     38  \n",
       "4    4,7        5639.0     40  \n",
       "0      4           4.0      3  "
      ]
     },
     "execution_count": 4,
     "metadata": {},
     "output_type": "execute_result"
    }
   ],
   "source": [
    "mask = books.notnull()\n",
    "not_null = books.where(mask)\n",
    "not_null_head = not_null.head()\n",
    "result = pd.concat([not_null_head, null_count], axis=0)\n",
    "result"
   ]
  },
  {
   "cell_type": "code",
   "execution_count": 5,
   "id": "335a358f-12af-4303-9ca3-954d2f4c9971",
   "metadata": {},
   "outputs": [
    {
     "data": {
      "text/plain": [
       "Text(0.5, 1.0, 'No. null values by column')"
      ]
     },
     "execution_count": 5,
     "metadata": {},
     "output_type": "execute_result"
    },
    {
     "data": {
      "image/png": "[encoded data removed]",
      "text/plain": [
       "<Figure size 640x480 with 1 Axes>"
      ]
     },
     "metadata": {},
     "output_type": "display_data"
    }
   ],
   "source": [
    "null_fig = null_count.plot(kind='bar')\n",
    "null_fig.set_ylabel('No. null values')\n",
    "null_fig.set_title('No. null values by column')"
   ]
  },
  {
   "cell_type": "markdown",
   "id": "a717b754-5956-44ec-b669-7c2b7abba8c1",
   "metadata": {},
   "source": [
    "### Do you want to drop any column?"
   ]
  },
  {
   "cell_type": "code",
   "execution_count": 6,
   "id": "b8ed1dcd-5ee4-4052-8f28-ce7342e5ec03",
   "metadata": {},
   "outputs": [
    {
     "data": {
      "text/plain": [
       "Index(['title', 'description', 'author', 'isbn10', 'isbn13', 'publish_date',\n",
       "       'edition', 'best_seller', 'top_rated ', 'rating', 'review_count',\n",
       "       'price'],\n",
       "      dtype='object')"
      ]
     },
     "execution_count": 6,
     "metadata": {},
     "output_type": "execute_result"
    }
   ],
   "source": [
    "books.columns"
   ]
  },
  {
   "cell_type": "code",
   "execution_count": 7,
   "id": "9c6221a8-23e4-4b6d-a038-b1b09b87af64",
   "metadata": {},
   "outputs": [
    {
     "data": {
      "text/html": [
       "<div>\n",
       "<style scoped>\n",
       "    .dataframe tbody tr th:only-of-type {\n",
       "        vertical-align: middle;\n",
       "    }\n",
       "\n",
       "    .dataframe tbody tr th {\n",
       "        vertical-align: top;\n",
       "    }\n",
       "\n",
       "    .dataframe thead th {\n",
       "        text-align: right;\n",
       "    }\n",
       "</style>\n",
       "<table border=\"1\" class=\"dataframe\">\n",
       "  <thead>\n",
       "    <tr style=\"text-align: right;\">\n",
       "      <th></th>\n",
       "      <th>title</th>\n",
       "      <th>description</th>\n",
       "      <th>author</th>\n",
       "      <th>publish_date</th>\n",
       "      <th>edition</th>\n",
       "      <th>top_rated</th>\n",
       "      <th>rating</th>\n",
       "      <th>review_count</th>\n",
       "      <th>price</th>\n",
       "    </tr>\n",
       "  </thead>\n",
       "  <tbody>\n",
       "    <tr>\n",
       "      <th>0</th>\n",
       "      <td>The Staff Engineer's Path</td>\n",
       "      <td>A Guide for Individual Contributors Navigating...</td>\n",
       "      <td>Tanya Reilly</td>\n",
       "      <td>2022-10-25</td>\n",
       "      <td>1</td>\n",
       "      <td>no</td>\n",
       "      <td>4,7</td>\n",
       "      <td>189.0</td>\n",
       "      <td>31,99</td>\n",
       "    </tr>\n",
       "    <tr>\n",
       "      <th>1</th>\n",
       "      <td>Cracking the Coding Interview</td>\n",
       "      <td>189 Programming Questions and Solutions</td>\n",
       "      <td>Gayle Laakmann McDowell</td>\n",
       "      <td>2015-07-01</td>\n",
       "      <td>6</td>\n",
       "      <td>no</td>\n",
       "      <td>4,7</td>\n",
       "      <td>8334.0</td>\n",
       "      <td>33,21</td>\n",
       "    </tr>\n",
       "    <tr>\n",
       "      <th>2</th>\n",
       "      <td>Python Crash Course, 3rd Edition</td>\n",
       "      <td>A Hands-On, Project-Based Introduction to Prog...</td>\n",
       "      <td>Eric Matthes</td>\n",
       "      <td>2023-01-10</td>\n",
       "      <td>3</td>\n",
       "      <td>no</td>\n",
       "      <td>4,8</td>\n",
       "      <td>165.0</td>\n",
       "      <td>30,61</td>\n",
       "    </tr>\n",
       "    <tr>\n",
       "      <th>3</th>\n",
       "      <td>The Pragmatic Programmer</td>\n",
       "      <td>20th Anniversary Edition, 2nd Edition: Your Jo...</td>\n",
       "      <td>David Thomas</td>\n",
       "      <td>2019-09-13</td>\n",
       "      <td>2</td>\n",
       "      <td>no</td>\n",
       "      <td>4,8</td>\n",
       "      <td>2521.0</td>\n",
       "      <td>38</td>\n",
       "    </tr>\n",
       "    <tr>\n",
       "      <th>4</th>\n",
       "      <td>Clean Code</td>\n",
       "      <td>A Handbook of Agile Software Craftsmanship</td>\n",
       "      <td>Robert C, Martin</td>\n",
       "      <td>2008-08-01</td>\n",
       "      <td>1</td>\n",
       "      <td>no</td>\n",
       "      <td>4,7</td>\n",
       "      <td>5639.0</td>\n",
       "      <td>40</td>\n",
       "    </tr>\n",
       "  </tbody>\n",
       "</table>\n",
       "</div>"
      ],
      "text/plain": [
       "                              title  \\\n",
       "0         The Staff Engineer's Path   \n",
       "1     Cracking the Coding Interview   \n",
       "2  Python Crash Course, 3rd Edition   \n",
       "3          The Pragmatic Programmer   \n",
       "4                        Clean Code   \n",
       "\n",
       "                                         description                   author  \\\n",
       "0  A Guide for Individual Contributors Navigating...             Tanya Reilly   \n",
       "1            189 Programming Questions and Solutions  Gayle Laakmann McDowell   \n",
       "2  A Hands-On, Project-Based Introduction to Prog...             Eric Matthes   \n",
       "3  20th Anniversary Edition, 2nd Edition: Your Jo...             David Thomas   \n",
       "4         A Handbook of Agile Software Craftsmanship         Robert C, Martin   \n",
       "\n",
       "  publish_date edition top_rated  rating  review_count  price  \n",
       "0   2022-10-25       1         no    4,7         189.0  31,99  \n",
       "1   2015-07-01       6         no    4,7        8334.0  33,21  \n",
       "2   2023-01-10       3         no    4,8         165.0  30,61  \n",
       "3   2019-09-13       2         no    4,8        2521.0     38  \n",
       "4   2008-08-01       1         no    4,7        5639.0     40  "
      ]
     },
     "execution_count": 7,
     "metadata": {},
     "output_type": "execute_result"
    }
   ],
   "source": [
    "to_drop = ['isbn10', 'isbn13', 'best_seller']\n",
    "df = books.drop(to_drop, axis=1)\n",
    "df.head()"
   ]
  },
  {
   "cell_type": "markdown",
   "id": "b85ad88b-e85c-44db-a8d7-0f7c82773515",
   "metadata": {},
   "source": [
    "### Do you want to drop any rows with nulls?"
   ]
  },
  {
   "cell_type": "code",
   "execution_count": 8,
   "id": "6cf2eb72-cc83-466d-a93b-e84e04811611",
   "metadata": {},
   "outputs": [
    {
     "data": {
      "text/plain": [
       "381"
      ]
     },
     "execution_count": 8,
     "metadata": {},
     "output_type": "execute_result"
    }
   ],
   "source": [
    "df = df.dropna()\n",
    "len(df.index)"
   ]
  },
  {
   "cell_type": "code",
   "execution_count": 9,
   "id": "075b8a60-5a05-4a6a-8d06-5f7e00577c7f",
   "metadata": {},
   "outputs": [
    {
     "data": {
      "text/plain": [
       "title            object\n",
       "description      object\n",
       "author           object\n",
       "publish_date     object\n",
       "edition          object\n",
       "top_rated        object\n",
       "rating           object\n",
       "review_count    float64\n",
       "price            object\n",
       "dtype: object"
      ]
     },
     "execution_count": 9,
     "metadata": {},
     "output_type": "execute_result"
    }
   ],
   "source": [
    "df.dtypes"
   ]
  },
  {
   "cell_type": "markdown",
   "id": "45b3897e-9bce-41d2-8f6f-e3e07c62d927",
   "metadata": {},
   "source": [
    "### Change price type to float\n",
    "Requires chaning \",\" to \".\" for decimal point where necessary"
   ]
  },
  {
   "cell_type": "code",
   "execution_count": 10,
   "id": "81221312-851b-4106-bb80-4c9c678a19d0",
   "metadata": {},
   "outputs": [
    {
     "data": {
      "text/plain": [
       "0    31.99\n",
       "1    33.21\n",
       "2    30.61\n",
       "3       38\n",
       "4       40\n",
       "Name: price, dtype: object"
      ]
     },
     "execution_count": 10,
     "metadata": {},
     "output_type": "execute_result"
    }
   ],
   "source": [
    "df['price'] = df['price'].replace(to_replace=r'(\\d*),(\\d*)', value=r'\\1.\\2', regex=True)\n",
    "df['price'].head()"
   ]
  },
  {
   "cell_type": "code",
   "execution_count": 11,
   "id": "51909580-fefb-4603-ace5-772d78a6a5ad",
   "metadata": {},
   "outputs": [],
   "source": [
    "df = df.astype({'price': 'float'})"
   ]
  },
  {
   "cell_type": "code",
   "execution_count": 12,
   "id": "9c8bd3b8-6a31-4e25-82cf-215eb7e647f7",
   "metadata": {},
   "outputs": [
    {
     "data": {
      "text/plain": [
       "title            object\n",
       "description      object\n",
       "author           object\n",
       "publish_date     object\n",
       "edition          object\n",
       "top_rated        object\n",
       "rating           object\n",
       "review_count    float64\n",
       "price           float64\n",
       "dtype: object"
      ]
     },
     "execution_count": 12,
     "metadata": {},
     "output_type": "execute_result"
    }
   ],
   "source": [
    "df.dtypes"
   ]
  },
  {
   "cell_type": "markdown",
   "id": "c15e330a-b8e9-4fd6-bc12-7c7741ae3d36",
   "metadata": {},
   "source": [
    "### Attept to change publish_date to datetime\n"
   ]
  },
  {
   "cell_type": "code",
   "execution_count": 13,
   "id": "1b2cab26-c995-4ab9-9bde-9639cafde988",
   "metadata": {},
   "outputs": [],
   "source": [
    "# df['publish_date'] = pd.to_datetime(df['publish_date'])\n",
    "# for date in df['publish_date']:\n",
    "# for index, row in df.iterrows():\n",
    "#     try:\n",
    "#         new_date = pd.to_datetime(row['publish_date'])\n",
    "#         df[index, 'publish_date'] = new_date\n",
    "#     except ValueError:\n",
    "#         df.drop(index)\n",
    "#         continue"
   ]
  },
  {
   "cell_type": "code",
   "execution_count": 14,
   "id": "fe8cc6d2-4842-4b4f-857f-7b7ce8200f4e",
   "metadata": {},
   "outputs": [],
   "source": [
    "# df.dtypes"
   ]
  },
  {
   "cell_type": "markdown",
   "id": "522f4c26-2be2-4fe8-a3dd-3bcf46d5bdbb",
   "metadata": {},
   "source": [
    "### Change edition to numeric\n",
    "While also dropping any rows with values that can't be converted to numeric"
   ]
  },
  {
   "cell_type": "code",
   "execution_count": 15,
   "id": "882b9c63-d20c-4bdb-836b-ea622307a6b1",
   "metadata": {},
   "outputs": [
    {
     "name": "stdout",
     "output_type": "stream",
     "text": [
      "379\n"
     ]
    },
    {
     "data": {
      "text/plain": [
       "title            object\n",
       "description      object\n",
       "author           object\n",
       "publish_date     object\n",
       "edition           int32\n",
       "top_rated        object\n",
       "rating           object\n",
       "review_count    float64\n",
       "price           float64\n",
       "dtype: object"
      ]
     },
     "execution_count": 15,
     "metadata": {},
     "output_type": "execute_result"
    }
   ],
   "source": [
    "# df = df.astype({'edition': 'int'})\n",
    "# df.dtypes\n",
    "# df[df['edition'].apply(pd.to_numeric, errors='coerce').notna()].dropna()\n",
    "# df['edition'] = df['edition'].apply(pd.to_numeric, errors='coerce').dropna()\n",
    "# df = df.astype({'edition': 'int'})\n",
    "\n",
    "# df['edition'] = df.edition.astype(int, errors='drop')\n",
    "\n",
    "df['edition'] = pd.to_numeric(df.edition, errors='coerce')\n",
    "df = df.dropna()\n",
    "print(len(df.index))\n",
    "df = df.astype({'edition': 'int'})\n",
    "# print(len(new_edition.index))\n",
    "# new_edition = new_edition.dropna()\n",
    "# print(len(new_edition.index))\n",
    "df.dtypes"
   ]
  }
 ],
 "metadata": {
  "kernelspec": {
   "display_name": "venv",
   "language": "python",
   "name": "venv"
  },
  "language_info": {
   "codemirror_mode": {
    "name": "ipython",
    "version": 3
   },
   "file_extension": ".py",
   "mimetype": "text/x-python",
   "name": "python",
   "nbconvert_exporter": "python",
   "pygments_lexer": "ipython3",
   "version": "3.10.9"
  }
 },
 "nbformat": 4,
 "nbformat_minor": 5
}
