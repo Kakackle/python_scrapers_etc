{
 "cells": [
  {
   "cell_type": "code",
   "execution_count": 2,
   "id": "cd9455e1-0e86-479b-b36f-6f20cf8cfba6",
   "metadata": {},
   "outputs": [],
   "source": [
    "from pydantic import BaseModel\n",
    "from typing import List, Optional\n",
    "import pandas as pd"
   ]
  },
  {
   "cell_type": "code",
   "execution_count": 3,
   "id": "f7aabb16-839a-49a8-bb19-16959eaada3a",
   "metadata": {},
   "outputs": [],
   "source": [
    "class ListingExtra(BaseModel):\n",
    "    title: str\n",
    "    link: str\n",
    "    extra: str = None\n",
    "    tlist: List[str] = None"
   ]
  },
  {
   "cell_type": "code",
   "execution_count": 4,
   "id": "920ef4ea-5d0e-4aca-abe3-38d990dc63d0",
   "metadata": {},
   "outputs": [],
   "source": [
    "test_extra = ListingExtra(title='test', link='testlink', tlist=['one','two'])"
   ]
  },
  {
   "cell_type": "code",
   "execution_count": 5,
   "id": "263db464-cb8a-49a4-96bf-6cc0ea1b6dea",
   "metadata": {},
   "outputs": [
    {
     "data": {
      "text/plain": [
       "ListingExtra(title='test', link='testlink', extra=None, tlist=['one', 'two'])"
      ]
     },
     "execution_count": 5,
     "metadata": {},
     "output_type": "execute_result"
    }
   ],
   "source": [
    "test_extra"
   ]
  },
  {
   "cell_type": "code",
   "execution_count": 7,
   "id": "c5e55d80-7a5e-4b11-abc0-2b195ddf00fe",
   "metadata": {},
   "outputs": [
    {
     "name": "stdout",
     "output_type": "stream",
     "text": [
      "Index(['title', 'link', 'extra', 'tlist'], dtype='object')\n"
     ]
    }
   ],
   "source": [
    "extra_df = pd.json_normalize(test_extra.model_dump())\n",
    "print(extra_df.columns)"
   ]
  },
  {
   "cell_type": "markdown",
   "id": "3958c40b-0c86-4315-b379-7945e2342067",
   "metadata": {},
   "source": [
    "### Splitting array cell into multiple columns\n",
    "#### Method 1:"
   ]
  },
  {
   "cell_type": "code",
   "execution_count": null,
   "id": "cdd25790-7969-4650-bcce-ba4ed2b4a606",
   "metadata": {},
   "outputs": [],
   "source": [
    "extra_df[['skill1','skill2']] = pd.DataFrame(extra_df.tlist.tolist())"
   ]
  },
  {
   "cell_type": "markdown",
   "id": "b66be80d-80c9-4899-8747-0bb7ae568902",
   "metadata": {},
   "source": [
    "#### Method 2:"
   ]
  },
  {
   "cell_type": "code",
   "execution_count": 20,
   "id": "93a64095-543e-4238-9821-17e098043683",
   "metadata": {},
   "outputs": [
    {
     "data": {
      "text/html": [
       "<div>\n",
       "<style scoped>\n",
       "    .dataframe tbody tr th:only-of-type {\n",
       "        vertical-align: middle;\n",
       "    }\n",
       "\n",
       "    .dataframe tbody tr th {\n",
       "        vertical-align: top;\n",
       "    }\n",
       "\n",
       "    .dataframe thead th {\n",
       "        text-align: right;\n",
       "    }\n",
       "</style>\n",
       "<table border=\"1\" class=\"dataframe\">\n",
       "  <thead>\n",
       "    <tr style=\"text-align: right;\">\n",
       "      <th></th>\n",
       "      <th>skill1</th>\n",
       "      <th>skill2</th>\n",
       "    </tr>\n",
       "  </thead>\n",
       "  <tbody>\n",
       "    <tr>\n",
       "      <th>0</th>\n",
       "      <td>one</td>\n",
       "      <td>two</td>\n",
       "    </tr>\n",
       "  </tbody>\n",
       "</table>\n",
       "</div>"
      ],
      "text/plain": [
       "  skill1 skill2\n",
       "0    one    two"
      ]
     },
     "execution_count": 20,
     "metadata": {},
     "output_type": "execute_result"
    }
   ],
   "source": [
    "extra_df_split = extra_df.tlist.apply(pd.Series)\n",
    "# extra_df_split\n",
    "extra_df_split.rename(columns={0:'skill1', 1:'skill2'}, inplace=True)\n",
    "extra_df_split"
   ]
  },
  {
   "cell_type": "code",
   "execution_count": 9,
   "id": "cd39d3c8-0248-4909-91a3-be70c8cf94de",
   "metadata": {},
   "outputs": [
    {
     "data": {
      "text/html": [
       "<div>\n",
       "<style scoped>\n",
       "    .dataframe tbody tr th:only-of-type {\n",
       "        vertical-align: middle;\n",
       "    }\n",
       "\n",
       "    .dataframe tbody tr th {\n",
       "        vertical-align: top;\n",
       "    }\n",
       "\n",
       "    .dataframe thead th {\n",
       "        text-align: right;\n",
       "    }\n",
       "</style>\n",
       "<table border=\"1\" class=\"dataframe\">\n",
       "  <thead>\n",
       "    <tr style=\"text-align: right;\">\n",
       "      <th></th>\n",
       "      <th>title</th>\n",
       "      <th>link</th>\n",
       "      <th>extra</th>\n",
       "      <th>tlist</th>\n",
       "    </tr>\n",
       "  </thead>\n",
       "  <tbody>\n",
       "    <tr>\n",
       "      <th>0</th>\n",
       "      <td>test</td>\n",
       "      <td>testlink</td>\n",
       "      <td>None</td>\n",
       "      <td>[one, two]</td>\n",
       "    </tr>\n",
       "  </tbody>\n",
       "</table>\n",
       "</div>"
      ],
      "text/plain": [
       "  title      link extra       tlist\n",
       "0  test  testlink  None  [one, two]"
      ]
     },
     "execution_count": 9,
     "metadata": {},
     "output_type": "execute_result"
    }
   ],
   "source": [
    "extra_df.head()"
   ]
  }
 ],
 "metadata": {
  "kernelspec": {
   "display_name": "venv",
   "language": "python",
   "name": "venv"
  },
  "language_info": {
   "codemirror_mode": {
    "name": "ipython",
    "version": 3
   },
   "file_extension": ".py",
   "mimetype": "text/x-python",
   "name": "python",
   "nbconvert_exporter": "python",
   "pygments_lexer": "ipython3",
   "version": "3.10.9"
  }
 },
 "nbformat": 4,
 "nbformat_minor": 5
}
