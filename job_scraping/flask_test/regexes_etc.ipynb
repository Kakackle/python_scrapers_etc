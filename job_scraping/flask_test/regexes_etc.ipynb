{
 "cells": [
  {
   "cell_type": "markdown",
   "id": "20aa1138-5f12-4acb-8428-5f10397c00dd",
   "metadata": {},
   "source": [
    "### Test splitting terms and dates from file names"
   ]
  },
  {
   "cell_type": "code",
   "execution_count": 6,
   "id": "1a0211e3-d15e-430d-a630-5be3816a4089",
   "metadata": {},
   "outputs": [],
   "source": [
    "import re"
   ]
  },
  {
   "cell_type": "code",
   "execution_count": 4,
   "id": "db62f674-c18f-4a3f-b421-9f88b4eb711c",
   "metadata": {},
   "outputs": [],
   "source": [
    "date_regex = re.compile(r'(.*)_(\\d{4}-\\d{2}-\\d{2})')"
   ]
  },
  {
   "cell_type": "code",
   "execution_count": 3,
   "id": "4bdd09d7-123e-4251-aeb4-155dd1262c29",
   "metadata": {},
   "outputs": [],
   "source": [
    "test_texts = [\n",
    "    'python_django_vue_2023-12-06',\n",
    "    'python_2023-11-29']"
   ]
  },
  {
   "cell_type": "code",
   "execution_count": 23,
   "id": "9e0af6a7-6827-4e6b-9a05-baadb66c2613",
   "metadata": {},
   "outputs": [],
   "source": [
    "results = []"
   ]
  },
  {
   "cell_type": "code",
   "execution_count": 24,
   "id": "c3c3ddb7-bbf5-45cd-beb5-7f239815de85",
   "metadata": {},
   "outputs": [],
   "source": [
    "for text in test_texts:\n",
    "    result = date_regex.search(text)\n",
    "    term = result.group(1)\n",
    "    date = result.group(2)\n",
    "    results.append(term)\n",
    "    # print(f'term: {term} , date: {date}')"
   ]
  },
  {
   "cell_type": "code",
   "execution_count": 25,
   "id": "24b14eca-e69b-4a6c-af14-171c0e6c7da4",
   "metadata": {},
   "outputs": [
    {
     "data": {
      "text/plain": [
       "'python_django_vue'"
      ]
     },
     "execution_count": 25,
     "metadata": {},
     "output_type": "execute_result"
    }
   ],
   "source": [
    "results[0]"
   ]
  },
  {
   "cell_type": "code",
   "execution_count": 26,
   "id": "a195202f-1079-41f8-b505-46cf8189ce01",
   "metadata": {},
   "outputs": [
    {
     "data": {
      "text/plain": [
       "'python, django, vue'"
      ]
     },
     "execution_count": 26,
     "metadata": {},
     "output_type": "execute_result"
    }
   ],
   "source": [
    "(', ').join(results[0].split('_'))"
   ]
  },
  {
   "cell_type": "code",
   "execution_count": 27,
   "id": "939c4beb-49f8-473e-8a04-6fc8de80751a",
   "metadata": {},
   "outputs": [
    {
     "data": {
      "text/plain": [
       "'python'"
      ]
     },
     "execution_count": 27,
     "metadata": {},
     "output_type": "execute_result"
    }
   ],
   "source": [
    "(', ').join(results[1].split('_'))"
   ]
  },
  {
   "cell_type": "markdown",
   "id": "24f49d58-fd5c-4ccf-bdb0-566d99439e02",
   "metadata": {},
   "source": [
    "### Test getting multiple terms from input"
   ]
  },
  {
   "cell_type": "code",
   "execution_count": 31,
   "id": "58d4abe7-bca1-4a3c-b413-277ad905835c",
   "metadata": {},
   "outputs": [],
   "source": [
    "test_inputs = ['python,vue,fullstack', 'full stack',\n",
    "               'javascript, vue', 'full stack, django']"
   ]
  },
  {
   "cell_type": "code",
   "execution_count": 29,
   "id": "c99160f2-1622-4df5-8e42-13a60a9e1e73",
   "metadata": {},
   "outputs": [
    {
     "data": {
      "text/plain": [
       "['python', 'vue', 'fullstack']"
      ]
     },
     "execution_count": 29,
     "metadata": {},
     "output_type": "execute_result"
    }
   ],
   "source": [
    "test_inputs[0].split(',')"
   ]
  },
  {
   "cell_type": "code",
   "execution_count": 30,
   "id": "b3d35f08-5db9-4528-afe7-ccfdafa9e8ba",
   "metadata": {},
   "outputs": [
    {
     "data": {
      "text/plain": [
       "['javascript', ' vue']"
      ]
     },
     "execution_count": 30,
     "metadata": {},
     "output_type": "execute_result"
    }
   ],
   "source": [
    "test_inputs[2].split(',')"
   ]
  },
  {
   "cell_type": "code",
   "execution_count": 32,
   "id": "23de6fa1-c38d-42ee-87ce-da549df6aab7",
   "metadata": {},
   "outputs": [
    {
     "data": {
      "text/plain": [
       "['full stack', ' django']"
      ]
     },
     "execution_count": 32,
     "metadata": {},
     "output_type": "execute_result"
    }
   ],
   "source": [
    "test_inputs[3].split(',')"
   ]
  },
  {
   "cell_type": "code",
   "execution_count": null,
   "id": "d1e6a39f-7fe7-4f10-8081-86b829dd0e6a",
   "metadata": {},
   "outputs": [],
   "source": [
    "# \"\".join(sentence.split())"
   ]
  },
  {
   "cell_type": "code",
   "execution_count": 33,
   "id": "4b773c7e-3dea-45a5-915c-ca6fc883058a",
   "metadata": {},
   "outputs": [],
   "source": [
    "raw_3 = test_inputs[3].split(',')"
   ]
  },
  {
   "cell_type": "code",
   "execution_count": 34,
   "id": "dd3d4822-41d1-44b7-9fee-2e42df1fe801",
   "metadata": {},
   "outputs": [],
   "source": [
    "stripped_3 = [\"\".join(t.split()) for t in raw_3]"
   ]
  },
  {
   "cell_type": "code",
   "execution_count": 35,
   "id": "41bbd0a5-901f-498c-8e57-61d8647d7ae8",
   "metadata": {},
   "outputs": [
    {
     "data": {
      "text/plain": [
       "['fullstack', 'django']"
      ]
     },
     "execution_count": 35,
     "metadata": {},
     "output_type": "execute_result"
    }
   ],
   "source": [
    "stripped_3"
   ]
  },
  {
   "cell_type": "code",
   "execution_count": 2,
   "id": "13f780c1-b9e5-4547-ae84-72c370c21a2c",
   "metadata": {},
   "outputs": [],
   "source": [
    "file = 'all_pandas_2023-12-07.csv'"
   ]
  },
  {
   "cell_type": "code",
   "execution_count": 10,
   "id": "f2119637-2d62-4bc8-9ace-3f3536f57583",
   "metadata": {},
   "outputs": [],
   "source": [
    "date_regex = re.compile(r'.*(\\d{4}-\\d{2}-\\d{2})')"
   ]
  },
  {
   "cell_type": "code",
   "execution_count": 11,
   "id": "780477f2-7079-4fac-adf3-cb18e2163c95",
   "metadata": {},
   "outputs": [
    {
     "name": "stdout",
     "output_type": "stream",
     "text": [
      "<re.Match object; span=(0, 21), match='all_pandas_2023-12-07'>\n"
     ]
    }
   ],
   "source": [
    "match = date_regex.match(file)\n",
    "print(match)"
   ]
  },
  {
   "cell_type": "code",
   "execution_count": 12,
   "id": "9c11051d-4177-4bf2-9751-39f33849d45c",
   "metadata": {},
   "outputs": [
    {
     "data": {
      "text/plain": [
       "['__class__',\n",
       " '__class_getitem__',\n",
       " '__copy__',\n",
       " '__deepcopy__',\n",
       " '__delattr__',\n",
       " '__dir__',\n",
       " '__doc__',\n",
       " '__eq__',\n",
       " '__format__',\n",
       " '__ge__',\n",
       " '__getattribute__',\n",
       " '__getitem__',\n",
       " '__gt__',\n",
       " '__hash__',\n",
       " '__init__',\n",
       " '__init_subclass__',\n",
       " '__le__',\n",
       " '__lt__',\n",
       " '__module__',\n",
       " '__ne__',\n",
       " '__new__',\n",
       " '__reduce__',\n",
       " '__reduce_ex__',\n",
       " '__repr__',\n",
       " '__setattr__',\n",
       " '__sizeof__',\n",
       " '__str__',\n",
       " '__subclasshook__',\n",
       " 'end',\n",
       " 'endpos',\n",
       " 'expand',\n",
       " 'group',\n",
       " 'groupdict',\n",
       " 'groups',\n",
       " 'lastgroup',\n",
       " 'lastindex',\n",
       " 'pos',\n",
       " 're',\n",
       " 'regs',\n",
       " 'span',\n",
       " 'start',\n",
       " 'string']"
      ]
     },
     "execution_count": 12,
     "metadata": {},
     "output_type": "execute_result"
    }
   ],
   "source": [
    "dir(match)"
   ]
  }
 ],
 "metadata": {
  "kernelspec": {
   "display_name": "venv",
   "language": "python",
   "name": "venv"
  },
  "language_info": {
   "codemirror_mode": {
    "name": "ipython",
    "version": 3
   },
   "file_extension": ".py",
   "mimetype": "text/x-python",
   "name": "python",
   "nbconvert_exporter": "python",
   "pygments_lexer": "ipython3",
   "version": "3.10.9"
  }
 },
 "nbformat": 4,
 "nbformat_minor": 5
}
