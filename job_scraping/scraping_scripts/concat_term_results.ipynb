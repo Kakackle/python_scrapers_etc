{
 "cells": [
  {
   "cell_type": "markdown",
   "id": "39d8b4ea-14cc-496b-a19e-a21f12353b39",
   "metadata": {},
   "source": [
    "### Concat results for different terms from combined data files"
   ]
  },
  {
   "cell_type": "code",
   "execution_count": 1,
   "id": "5cc54903-52bc-458e-bbc4-2a958e2c887a",
   "metadata": {},
   "outputs": [],
   "source": [
    "import os\n",
    "import pandas as pd\n",
    "from datetime import datetime, date"
   ]
  },
  {
   "cell_type": "code",
   "execution_count": 1,
   "id": "6e509600-242f-45c3-aaef-4b747e7ae073",
   "metadata": {},
   "outputs": [
    {
     "data": {
      "text/plain": [
       "'python_django_vue'"
      ]
     },
     "execution_count": 1,
     "metadata": {},
     "output_type": "execute_result"
    }
   ],
   "source": [
    "concat_terms = ['python', 'django', 'vue']\n",
    "terms_string = '_'.join(concat_terms)\n",
    "terms_string"
   ]
  },
  {
   "cell_type": "code",
   "execution_count": 3,
   "id": "af21b77c-57c5-40f1-a963-ce98055dd5e1",
   "metadata": {},
   "outputs": [],
   "source": [
    "os.chdir('../scraping_results/combined')"
   ]
  },
  {
   "cell_type": "code",
   "execution_count": 4,
   "id": "0ca245c5-fd50-412c-afc9-34dfe9f58000",
   "metadata": {},
   "outputs": [
    {
     "data": {
      "text/plain": [
       "'C:\\\\Users\\\\User\\\\Desktop\\\\programowanie_web_etc\\\\python_projects\\\\scrapers\\\\job_scraping\\\\scraping_results\\\\combined'"
      ]
     },
     "execution_count": 4,
     "metadata": {},
     "output_type": "execute_result"
    }
   ],
   "source": [
    "os.getcwd()"
   ]
  },
  {
   "cell_type": "code",
   "execution_count": 5,
   "id": "02e9e75e-04bf-4c18-9b1b-b91b48ea7f62",
   "metadata": {},
   "outputs": [
    {
     "data": {
      "text/plain": [
       "['django', 'python', 'python_django', 'python_django_vue']"
      ]
     },
     "execution_count": 5,
     "metadata": {},
     "output_type": "execute_result"
    }
   ],
   "source": [
    "os.listdir()"
   ]
  },
  {
   "cell_type": "code",
   "execution_count": 6,
   "id": "cac04fcc-7e8c-4f01-8a64-46511afa832d",
   "metadata": {},
   "outputs": [
    {
     "name": "stdout",
     "output_type": "stream",
     "text": [
      "result shape\n",
      "(6163, 10)\n"
     ]
    }
   ],
   "source": [
    "concat_df = pd.DataFrame(columns=['title', 'link', 'company', 'location', 'salary',\n",
    "                                   'description','date_added', 'skills', 'search_term',\n",
    "                                   'date_searched'])\n",
    "for item in os.listdir():\n",
    "    if item in concat_terms:\n",
    "        os.chdir(item)\n",
    "        for file in os.listdir():\n",
    "            if file.endswith('.csv'):\n",
    "                term_df = pd.read_csv(file, index_col=0)\n",
    "                concat_df = pd.concat([concat_df, term_df])\n",
    "        os.chdir('..')\n",
    "\n",
    "print('result shape')\n",
    "print(concat_df.shape)"
   ]
  },
  {
   "cell_type": "markdown",
   "id": "724b0ce9-a849-44d3-82fa-ad56b240df15",
   "metadata": {},
   "source": [
    "### Save result to file"
   ]
  },
  {
   "cell_type": "code",
   "execution_count": 7,
   "id": "28417357-2ebf-4c03-8b17-8231c50ed079",
   "metadata": {},
   "outputs": [
    {
     "data": {
      "text/plain": [
       "'C:\\\\Users\\\\User\\\\Desktop\\\\programowanie_web_etc\\\\python_projects\\\\scrapers\\\\job_scraping\\\\scraping_results\\\\combined'"
      ]
     },
     "execution_count": 7,
     "metadata": {},
     "output_type": "execute_result"
    }
   ],
   "source": [
    "# os.chdir('combined')\n",
    "os.getcwd()"
   ]
  },
  {
   "cell_type": "code",
   "execution_count": 8,
   "id": "faf8bbc1-fae5-4f68-bf3e-92365e25d87e",
   "metadata": {},
   "outputs": [],
   "source": [
    "today = str(date.today())\n",
    "if not os.path.exists(terms_string):\n",
    "    os.makedirs(terms_string)\n",
    "path = terms_string + '/'\n",
    "concat_df.to_csv(path + f'{terms_string}_{today}.csv')"
   ]
  },
  {
   "cell_type": "code",
   "execution_count": null,
   "id": "fe9551f8-5473-4d0e-b75a-1c0c26e48202",
   "metadata": {},
   "outputs": [],
   "source": []
  }
 ],
 "metadata": {
  "kernelspec": {
   "display_name": "venv",
   "language": "python",
   "name": "venv"
  },
  "language_info": {
   "codemirror_mode": {
    "name": "ipython",
    "version": 3
   },
   "file_extension": ".py",
   "mimetype": "text/x-python",
   "name": "python",
   "nbconvert_exporter": "python",
   "pygments_lexer": "ipython3",
   "version": "3.10.9"
  }
 },
 "nbformat": 4,
 "nbformat_minor": 5
}
