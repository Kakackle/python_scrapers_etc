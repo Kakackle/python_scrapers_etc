{
 "cells": [
  {
   "cell_type": "code",
   "execution_count": 1,
   "id": "61156468-6f27-47b8-836d-0c9d7b5be5a4",
   "metadata": {},
   "outputs": [],
   "source": [
    "import requests\n",
    "import json"
   ]
  },
  {
   "cell_type": "code",
   "execution_count": 2,
   "id": "0c9d78bd-7965-40a8-a392-ce6745409927",
   "metadata": {},
   "outputs": [],
   "source": [
    "url = \"https://nofluffjobs.com/api/search/posting?page=1&limit=50&salaryCurrency=PLN&salaryPeriod=month&region=pl\""
   ]
  },
  {
   "cell_type": "code",
   "execution_count": 3,
   "id": "6308983d-9e34-4a18-85b9-d88c3e982898",
   "metadata": {},
   "outputs": [],
   "source": [
    "payload = json.dumps({\n",
    "  \"rawSearch\": \"requirement=Python\"\n",
    "})\n",
    "headers = {\n",
    "  'authority': 'nofluffjobs.com',\n",
    "  'accept': 'application/json, text/plain, */*',\n",
    "  'accept-language': 'pl-PL,pl;q=0.9,en-US;q=0.8,en;q=0.7',\n",
    "  'cache-control': 'no-cache',\n",
    "  'content-type': 'application/postingSearch+json',\n",
    "  'cookie': 'nfj_visited_pl=true; lastSearches=true; OptanonAlertBoxClosed=2023-11-02T15:26:46.991Z; nfj_abt=cat3422%2C0%2C1%3Bldm4333%2C0%2C0%3Bpagesize%2C0%2C0; nfj_redirect_id=00d16475-3c5d-45f3-8ea1-0d8115160a5f; postingApplied_UC5ICGL1=true; nfj_policy_accepted=true; nfj_consents={%22consent_initialized%22:true%2C%22consent_analytics_storage%22:false%2C%22consent_ad_storage%22:false%2C%22consent_functionality_storage%22:false%2C%22onetrust_consent_id%22:%221fb66390-249c-4825-8551-d857cf557193%22%2C%22onetrust_geolocation%22:%22PL%22%2C%22consent_analytics_storage_date%22:%222023-10-25T09:47:48.968Z%22%2C%22consent_functionality_storage_date%22:%222023-10-25T09:47:48.968Z%22%2C%22consent_ad_storage_date%22:%222023-10-25T09:47:48.968Z%22%2C%22first_consent_selection%22:true%2C%22consent_selection_date%22:%222023-10-25T09:47:48.968Z%22}; AMP_MKTG_53ff6cd964=JTdCJTdE; nfj_new_user=true; nfj_session_id=88499a3d-5615-48ca-9bb0-69fd8a9c1fd4.1700752947104; _dcid=88499a3d-5615-48ca-9bb0-69fd8a9c1fd4; nfj_selected_region=PL; country_iso=US; OptanonConsent=isGpcEnabled=0&datestamp=Thu+Nov+23+2023+16%3A23%3A59+GMT%2B0100+(Central+European+Standard+Time)&version=202310.1.0&browserGpcFlag=0&isIABGlobal=false&hosts=&consentId=1fb66390-249c-4825-8551-d857cf557193&interactionCount=2&landingPath=NotLandingPage&AwaitingReconsent=false&groups=C0001%3A1%2CC0002%3A0%2CC0003%3A0%2CC0004%3A0&geolocation=PL%3B10; AMP_53ff6cd964=JTdCJTIyZGV2aWNlSWQlMjIlM0ElMjI4ODQ5OWEzZC01NjE1LTQ4Y2EtOWJiMC02OWZkOGE5YzFmZDQlMjIlMkMlMjJzZXNzaW9uSWQlMjIlM0ExNzAwNzUyOTQ3MTA0JTJDJTIyb3B0T3V0JTIyJTNBZmFsc2UlN0Q=; nfj_last=1700753048139; _dd_s=rum=2&id=7cc82860-2c42-40c2-b559-11a3c23d0017&created=1700752947384&expire=1700753949314',\n",
    "  'nfj-global-context': '{\"region\":\"PL\",\"lang\":\"pl\",\"global_is_employer_logged_in\":false,\"global_is_candidate_logged_in\":false,\"global_internal_traffic\":false,\"global_partnerId\":null,\"global_partnerInternalTraffic\":false,\"global_url\":\"https://nofluffjobs.com/pl/Python?page=1\",\"global_windowResolution\":\"649x919\",\"global_pixelRatio\":1,\"global_screenWidth\":1920,\"global_screenHeight\":1040,\"global_deviceCategory\":\"desktop\",\"global_deviceFamily\":\"Windows\",\"global_userAgent\":\"Mozilla/5.0 (Windows NT 10.0; Win64; x64) AppleWebKit/537.36 (KHTML, like Gecko) Chrome/119.0.0.0 Safari/537.36\",\"global_company_domain\":null}',\n",
    "  'origin': 'https://nofluffjobs.com',\n",
    "  'pragma': 'no-cache',\n",
    "  'referer': 'https://nofluffjobs.com/pl/Python?page=1',\n",
    "  'sec-ch-ua': '\"Google Chrome\";v=\"119\", \"Chromium\";v=\"119\", \"Not?A_Brand\";v=\"24\"',\n",
    "  'sec-ch-ua-mobile': '?0',\n",
    "  'sec-ch-ua-platform': '\"Windows\"',\n",
    "  'sec-fetch-dest': 'empty',\n",
    "  'sec-fetch-mode': 'cors',\n",
    "  'sec-fetch-site': 'same-origin',\n",
    "  'user-agent': 'Mozilla/5.0 (Windows NT 10.0; Win64; x64) AppleWebKit/537.36 (KHTML, like Gecko) Chrome/119.0.0.0 Safari/537.36',\n",
    "  'x-datadog-origin': 'rum',\n",
    "  'x-datadog-parent-id': '8273576369410968673',\n",
    "  'x-datadog-sampling-priority': '1',\n",
    "  'x-datadog-trace-id': '776451047921066142'\n",
    "}"
   ]
  },
  {
   "cell_type": "code",
   "execution_count": 4,
   "id": "dbdb80c7-8024-4d04-917a-c4658b5109ab",
   "metadata": {},
   "outputs": [
    {
     "name": "stderr",
     "output_type": "stream",
     "text": [
      "IOPub data rate exceeded.\n",
      "The Jupyter server will temporarily stop sending output\n",
      "to the client in order to avoid crashing it.\n",
      "To change this limit, set the config variable\n",
      "`--ServerApp.iopub_data_rate_limit`.\n",
      "\n",
      "Current values:\n",
      "ServerApp.iopub_data_rate_limit=1000000.0 (bytes/sec)\n",
      "ServerApp.rate_limit_window=3.0 (secs)\n",
      "\n"
     ]
    }
   ],
   "source": [
    "response = requests.request(\"POST\", url, headers=headers, data=payload)\n",
    "\n",
    "# print(response.text)"
   ]
  },
  {
   "cell_type": "code",
   "execution_count": null,
   "id": "7017f3aa-e145-48eb-9c4a-e00912ba18b9",
   "metadata": {},
   "outputs": [],
   "source": [
    "json_data = response.json()\n",
    "postings = json_data['postings']\n",
    "total_count = json_data['totalCount']\n",
    "total_pages = json_data['totalPages']"
   ]
  },
  {
   "cell_type": "code",
   "execution_count": null,
   "id": "c1fc064b-6dad-48a3-9ebc-61a0aa7fba4a",
   "metadata": {},
   "outputs": [],
   "source": []
  }
 ],
 "metadata": {
  "kernelspec": {
   "display_name": "venv",
   "language": "python",
   "name": "venv"
  },
  "language_info": {
   "codemirror_mode": {
    "name": "ipython",
    "version": 3
   },
   "file_extension": ".py",
   "mimetype": "text/x-python",
   "name": "python",
   "nbconvert_exporter": "python",
   "pygments_lexer": "ipython3",
   "version": "3.10.9"
  }
 },
 "nbformat": 4,
 "nbformat_minor": 5
}
