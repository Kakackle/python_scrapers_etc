{
 "cells": [
  {
   "cell_type": "markdown",
   "id": "212e8507-e49c-45f6-8bad-33e2dd613d25",
   "metadata": {},
   "source": [
    "### Combine all datasets from folders"
   ]
  },
  {
   "cell_type": "code",
   "execution_count": 100,
   "id": "dbaf8097-c35c-4c5d-95b6-56916140d0c7",
   "metadata": {},
   "outputs": [],
   "source": [
    "import os\n",
    "import pandas as pd\n",
    "import re\n",
    "from datetime import datetime, date"
   ]
  },
  {
   "cell_type": "code",
   "execution_count": 5,
   "id": "0ad452fe-9c32-4a6b-bdd5-28fb03a92b27",
   "metadata": {},
   "outputs": [],
   "source": [
    "base_path = '../scraping_results/'\n",
    "paths = [\n",
    "    'combined',\n",
    "    'fluff'\n",
    "]\n"
   ]
  },
  {
   "cell_type": "code",
   "execution_count": 6,
   "id": "de5c0b9f-3490-4c1d-94b1-cf42249afeca",
   "metadata": {},
   "outputs": [],
   "source": [
    "os.chdir(base_path)"
   ]
  },
  {
   "cell_type": "code",
   "execution_count": 7,
   "id": "c8d140bd-76bb-4335-9f2a-b70c8b244e02",
   "metadata": {},
   "outputs": [
    {
     "data": {
      "text/plain": [
       "'C:\\\\Users\\\\User\\\\Desktop\\\\programowanie_web_etc\\\\python_projects\\\\scrapers\\\\job_scraping\\\\scraping_results'"
      ]
     },
     "execution_count": 7,
     "metadata": {},
     "output_type": "execute_result"
    }
   ],
   "source": [
    "os.getcwd()"
   ]
  },
  {
   "cell_type": "code",
   "execution_count": 18,
   "id": "3eec96a6-1c43-496c-9524-2d3142b9614c",
   "metadata": {},
   "outputs": [],
   "source": [
    "directories = []\n",
    "date_regex = re.compile(r'\\d{4}-\\d{2}-\\d{2}')\n",
    "\n",
    "for item in os.listdir():\n",
    "    if os.path.isdir(item):\n",
    "        # print(item)\n",
    "        if date_regex.match(str(item)):\n",
    "            # print(item)\n",
    "            directories.append(item)\n",
    "        "
   ]
  },
  {
   "cell_type": "code",
   "execution_count": 19,
   "id": "383d5608-d049-4148-851a-2107c16cb9fd",
   "metadata": {},
   "outputs": [
    {
     "data": {
      "text/plain": [
       "['2023-11-25', '2023-11-27']"
      ]
     },
     "execution_count": 19,
     "metadata": {},
     "output_type": "execute_result"
    }
   ],
   "source": [
    "directories"
   ]
  },
  {
   "cell_type": "code",
   "execution_count": 52,
   "id": "276f186f-369f-4c05-935c-1348ae750c58",
   "metadata": {},
   "outputs": [],
   "source": [
    "os.chdir('scraping_results')"
   ]
  },
  {
   "cell_type": "code",
   "execution_count": 116,
   "id": "abe9e654-8ba8-4ae5-b0dc-3dbf624605cf",
   "metadata": {},
   "outputs": [],
   "source": [
    "os.chdir(\"..\")"
   ]
  },
  {
   "cell_type": "code",
   "execution_count": 117,
   "id": "04439d2f-ce06-4863-aef2-c490582e7639",
   "metadata": {},
   "outputs": [
    {
     "data": {
      "text/plain": [
       "'C:\\\\Users\\\\User\\\\Desktop\\\\programowanie_web_etc\\\\python_projects\\\\scrapers\\\\job_scraping\\\\scraping_results'"
      ]
     },
     "execution_count": 117,
     "metadata": {},
     "output_type": "execute_result"
    }
   ],
   "source": [
    "os.getcwd()"
   ]
  },
  {
   "cell_type": "code",
   "execution_count": 54,
   "id": "1158a230-7845-4a55-8f44-1c3884263fc4",
   "metadata": {},
   "outputs": [
    {
     "data": {
      "text/plain": [
       "['.ipynb_checkpoints',\n",
       " '2023-11-25',\n",
       " '2023-11-27',\n",
       " '2pages_career, pracuj.csv',\n",
       " '2pages_career_pracuj.csv',\n",
       " 'career_p1.csv',\n",
       " 'fluff_python_half.csv',\n",
       " 'initial_fluff_postings.csv',\n",
       " 'pracuj_python_1page.csv',\n",
       " 'python_django_combined.csv']"
      ]
     },
     "execution_count": 54,
     "metadata": {},
     "output_type": "execute_result"
    }
   ],
   "source": [
    "os.listdir()"
   ]
  },
  {
   "cell_type": "code",
   "execution_count": 55,
   "id": "51912804-6b27-464a-b9e7-1578d342709d",
   "metadata": {},
   "outputs": [
    {
     "data": {
      "text/html": [
       "<div>\n",
       "<style scoped>\n",
       "    .dataframe tbody tr th:only-of-type {\n",
       "        vertical-align: middle;\n",
       "    }\n",
       "\n",
       "    .dataframe tbody tr th {\n",
       "        vertical-align: top;\n",
       "    }\n",
       "\n",
       "    .dataframe thead th {\n",
       "        text-align: right;\n",
       "    }\n",
       "</style>\n",
       "<table border=\"1\" class=\"dataframe\">\n",
       "  <thead>\n",
       "    <tr style=\"text-align: right;\">\n",
       "      <th></th>\n",
       "      <th>title</th>\n",
       "      <th>link</th>\n",
       "      <th>company</th>\n",
       "      <th>location</th>\n",
       "      <th>salary</th>\n",
       "      <th>description</th>\n",
       "      <th>date_added</th>\n",
       "      <th>skills</th>\n",
       "      <th>search_term</th>\n",
       "      <th>date_searched</th>\n",
       "    </tr>\n",
       "  </thead>\n",
       "  <tbody>\n",
       "  </tbody>\n",
       "</table>\n",
       "</div>"
      ],
      "text/plain": [
       "Empty DataFrame\n",
       "Columns: [title, link, company, location, salary, description, date_added, skills, search_term, date_searched]\n",
       "Index: []"
      ]
     },
     "execution_count": 55,
     "metadata": {},
     "output_type": "execute_result"
    }
   ],
   "source": [
    "all_df = pandas.DataFrame(columns=['title', 'link', 'company', 'location', 'salary',\n",
    "                                   'description','date_added', 'skills', 'search_term',\n",
    "                                   'date_searched'])\n",
    "all_df.head()"
   ]
  },
  {
   "cell_type": "code",
   "execution_count": 113,
   "id": "21bb1c21-d75c-4445-a773-384e29082ff6",
   "metadata": {},
   "outputs": [
    {
     "name": "stdout",
     "output_type": "stream",
     "text": [
      "C:\\Users\\User\\Desktop\\programowanie_web_etc\\python_projects\\scrapers\\job_scraping\\scraping_results\\2023-11-25\n",
      "c_path: careerjet_pracuj_python_2023-11-25.csv type: <class 'str'>\n",
      "shape: (350, 10)\n",
      "C:\\Users\\User\\Desktop\\programowanie_web_etc\\python_projects\\scrapers\\job_scraping\\scraping_results\\2023-11-27\n",
      "c_path: .ipynb_checkpoints type: <class 'str'>\n",
      "c_path: careerjet_pracuj_django_2023-11-27.csv type: <class 'str'>\n",
      "shape: (83, 10)\n",
      "c_path: careerjet_pracuj_vue_2023-11-27.csv type: <class 'str'>\n",
      "shape: (86, 10)\n",
      "c_path: nofluff_Python_2023-11-27.csv\n",
      "shape: (1395, 10)\n",
      "(4347, 10)\n"
     ]
    }
   ],
   "source": [
    "for directory in directories:\n",
    "    os.chdir(directory)\n",
    "    print(os.getcwd())\n",
    "    # print(os.listdir())\n",
    "    # print(combined_path)\n",
    "    \n",
    "    # get the 'combined' subdir\n",
    "    try:\n",
    "        os.chdir('combined')\n",
    "        combined_paths = os.listdir()\n",
    "        for c_path in combined_paths:\n",
    "            print(f\"c_path: {c_path} type: {type(c_path)}\")\n",
    "            if c_path.endswith(\".csv\"):\n",
    "                combined_df = pd.read_csv(c_path, index_col = 0)\n",
    "                print(f\"shape: {combined_df.shape}\")\n",
    "                all_df = pd.concat([all_df, combined_df])\n",
    "    except e:\n",
    "        pass\n",
    "    os.chdir(\"..\")\n",
    "    # os.chdir(\"..\")\n",
    "    # get the 'nofluff' subdir\n",
    "    try:\n",
    "        os.chdir('nofluff')\n",
    "        combined_paths = os.listdir()\n",
    "        for c_path in combined_paths:\n",
    "            print(f\"c_path: {c_path}\")\n",
    "            if c_path.endswith(\".csv\"):\n",
    "                combined_df = pd.read_csv(c_path, index_col = 0)\n",
    "                print(f\"shape: {combined_df.shape}\")\n",
    "                all_df = pd.concat([all_df, combined_df])\n",
    "    except:\n",
    "        pass\n",
    "    os.chdir(\"..\")\n",
    "print(all_df.shape)\n",
    "# go back\n",
    "os.chdir(\"..\")\n",
    "    # combined_df = pd.read_csv('combined/"
   ]
  },
  {
   "cell_type": "code",
   "execution_count": 57,
   "id": "8870ee0b-e8cc-4eb4-8eb4-fd2f958e1302",
   "metadata": {},
   "outputs": [
    {
     "data": {
      "text/plain": [
       "True"
      ]
     },
     "execution_count": 57,
     "metadata": {},
     "output_type": "execute_result"
    }
   ],
   "source": [
    "\"careerjet_pracuj_python_2023-11-25.csv\".endswith('.csv')"
   ]
  },
  {
   "cell_type": "code",
   "execution_count": 68,
   "id": "e6e2ad9f-9ba1-475f-85d8-9335c427b41b",
   "metadata": {},
   "outputs": [
    {
     "data": {
      "text/plain": [
       "(350, 10)"
      ]
     },
     "execution_count": 68,
     "metadata": {},
     "output_type": "execute_result"
    }
   ],
   "source": [
    "# os.getcwd()\n",
    "# os.chdir('2023-11-25')\n",
    "# os.getcwd()\n",
    "# os.chdir('combined')\n",
    "combined_df = pd.read_csv('careerjet_pracuj_python_2023-11-25.csv', index_col = 0)\n",
    "combined_df.shape"
   ]
  },
  {
   "cell_type": "markdown",
   "id": "4ec2f447-4c91-43c8-a07f-67b465e7adfb",
   "metadata": {},
   "source": [
    "### Save the combined dataframe"
   ]
  },
  {
   "cell_type": "code",
   "execution_count": 118,
   "id": "9a03aaf0-0197-45e2-acd6-abbc62367d8f",
   "metadata": {},
   "outputs": [],
   "source": [
    "today = str(date.today())\n",
    "# if not os.path.exists(today):\n",
    "#     os.makedirs(today)\n",
    "# os.chdir(today)\n",
    "path = 'all_data'\n",
    "if not os.path.exists(path):\n",
    "    os.makedirs(path)\n",
    "path += '/'\n",
    "all_df.to_csv(f'all_data_{today}.csv')"
   ]
  }
 ],
 "metadata": {
  "kernelspec": {
   "display_name": "venv",
   "language": "python",
   "name": "venv"
  },
  "language_info": {
   "codemirror_mode": {
    "name": "ipython",
    "version": 3
   },
   "file_extension": ".py",
   "mimetype": "text/x-python",
   "name": "python",
   "nbconvert_exporter": "python",
   "pygments_lexer": "ipython3",
   "version": "3.10.9"
  }
 },
 "nbformat": 4,
 "nbformat_minor": 5
}
