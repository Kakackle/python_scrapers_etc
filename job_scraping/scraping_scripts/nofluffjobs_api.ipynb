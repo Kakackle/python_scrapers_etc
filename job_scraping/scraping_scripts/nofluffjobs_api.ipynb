{
 "cells": [
  {
   "cell_type": "markdown",
   "id": "6ca33c45-4cfa-4cdb-83f0-37a427b99ace",
   "metadata": {},
   "source": [
    "# NoFluffJobs secret API utitilzation instead of scraping"
   ]
  },
  {
   "cell_type": "markdown",
   "id": "21bf633a-9e8c-4f76-86e9-fe6e1dd2dd12",
   "metadata": {},
   "source": [
    "### Imports"
   ]
  },
  {
   "cell_type": "code",
   "execution_count": 71,
   "id": "61156468-6f27-47b8-836d-0c9d7b5be5a4",
   "metadata": {},
   "outputs": [],
   "source": [
    "import requests\n",
    "import json\n",
    "import pandas as pd\n",
    "import pickle\n",
    "from datetime import datetime, date"
   ]
  },
  {
   "cell_type": "code",
   "execution_count": 6,
   "id": "0c9d78bd-7965-40a8-a392-ce6745409927",
   "metadata": {},
   "outputs": [],
   "source": [
    "url = \"https://nofluffjobs.com/api/search/posting?page=1&limit=50&salaryCurrency=PLN&salaryPeriod=month&region=pl\""
   ]
  },
  {
   "cell_type": "markdown",
   "id": "cb79cf36-13a4-4278-b6f9-d518ea025f8b",
   "metadata": {},
   "source": [
    "### Search term"
   ]
  },
  {
   "cell_type": "code",
   "execution_count": 3,
   "id": "517e4620-1b67-4d8f-93d4-3f8d5bb3c7e3",
   "metadata": {},
   "outputs": [],
   "source": [
    "search_tech = \"Python\"\n",
    "raw_search = f\"requirement={search_tech}\""
   ]
  },
  {
   "cell_type": "code",
   "execution_count": 4,
   "id": "6308983d-9e34-4a18-85b9-d88c3e982898",
   "metadata": {},
   "outputs": [],
   "source": [
    "payload = json.dumps({\n",
    "  \"rawSearch\": raw_search\n",
    "})\n",
    "headers = {\n",
    "  'authority': 'nofluffjobs.com',\n",
    "  'accept': 'application/json, text/plain, */*',\n",
    "  'accept-language': 'pl-PL,pl;q=0.9,en-US;q=0.8,en;q=0.7',\n",
    "  'cache-control': 'no-cache',\n",
    "  'content-type': 'application/postingSearch+json',\n",
    "  'cookie': 'nfj_visited_pl=true; lastSearches=true; OptanonAlertBoxClosed=2023-11-02T15:26:46.991Z; nfj_abt=cat3422%2C0%2C1%3Bldm4333%2C0%2C0%3Bpagesize%2C0%2C0; nfj_redirect_id=00d16475-3c5d-45f3-8ea1-0d8115160a5f; postingApplied_UC5ICGL1=true; nfj_policy_accepted=true; nfj_consents={%22consent_initialized%22:true%2C%22consent_analytics_storage%22:false%2C%22consent_ad_storage%22:false%2C%22consent_functionality_storage%22:false%2C%22onetrust_consent_id%22:%221fb66390-249c-4825-8551-d857cf557193%22%2C%22onetrust_geolocation%22:%22PL%22%2C%22consent_analytics_storage_date%22:%222023-10-25T09:47:48.968Z%22%2C%22consent_functionality_storage_date%22:%222023-10-25T09:47:48.968Z%22%2C%22consent_ad_storage_date%22:%222023-10-25T09:47:48.968Z%22%2C%22first_consent_selection%22:true%2C%22consent_selection_date%22:%222023-10-25T09:47:48.968Z%22}; AMP_MKTG_53ff6cd964=JTdCJTdE; nfj_new_user=true; nfj_session_id=88499a3d-5615-48ca-9bb0-69fd8a9c1fd4.1700752947104; _dcid=88499a3d-5615-48ca-9bb0-69fd8a9c1fd4; nfj_selected_region=PL; country_iso=US; OptanonConsent=isGpcEnabled=0&datestamp=Thu+Nov+23+2023+16%3A23%3A59+GMT%2B0100+(Central+European+Standard+Time)&version=202310.1.0&browserGpcFlag=0&isIABGlobal=false&hosts=&consentId=1fb66390-249c-4825-8551-d857cf557193&interactionCount=2&landingPath=NotLandingPage&AwaitingReconsent=false&groups=C0001%3A1%2CC0002%3A0%2CC0003%3A0%2CC0004%3A0&geolocation=PL%3B10; AMP_53ff6cd964=JTdCJTIyZGV2aWNlSWQlMjIlM0ElMjI4ODQ5OWEzZC01NjE1LTQ4Y2EtOWJiMC02OWZkOGE5YzFmZDQlMjIlMkMlMjJzZXNzaW9uSWQlMjIlM0ExNzAwNzUyOTQ3MTA0JTJDJTIyb3B0T3V0JTIyJTNBZmFsc2UlN0Q=; nfj_last=1700753048139; _dd_s=rum=2&id=7cc82860-2c42-40c2-b559-11a3c23d0017&created=1700752947384&expire=1700753949314',\n",
    "  'nfj-global-context': '{\"region\":\"PL\",\"lang\":\"pl\",\"global_is_employer_logged_in\":false,\"global_is_candidate_logged_in\":false,\"global_internal_traffic\":false,\"global_partnerId\":null,\"global_partnerInternalTraffic\":false,\"global_url\":\"https://nofluffjobs.com/pl/Python?page=1\",\"global_windowResolution\":\"649x919\",\"global_pixelRatio\":1,\"global_screenWidth\":1920,\"global_screenHeight\":1040,\"global_deviceCategory\":\"desktop\",\"global_deviceFamily\":\"Windows\",\"global_userAgent\":\"Mozilla/5.0 (Windows NT 10.0; Win64; x64) AppleWebKit/537.36 (KHTML, like Gecko) Chrome/119.0.0.0 Safari/537.36\",\"global_company_domain\":null}',\n",
    "  'origin': 'https://nofluffjobs.com',\n",
    "  'pragma': 'no-cache',\n",
    "  'referer': 'https://nofluffjobs.com/pl/Python?page=1',\n",
    "  'sec-ch-ua': '\"Google Chrome\";v=\"119\", \"Chromium\";v=\"119\", \"Not?A_Brand\";v=\"24\"',\n",
    "  'sec-ch-ua-mobile': '?0',\n",
    "  'sec-ch-ua-platform': '\"Windows\"',\n",
    "  'sec-fetch-dest': 'empty',\n",
    "  'sec-fetch-mode': 'cors',\n",
    "  'sec-fetch-site': 'same-origin',\n",
    "  'user-agent': 'Mozilla/5.0 (Windows NT 10.0; Win64; x64) AppleWebKit/537.36 (KHTML, like Gecko) Chrome/119.0.0.0 Safari/537.36',\n",
    "  'x-datadog-origin': 'rum',\n",
    "  'x-datadog-parent-id': '8273576369410968673',\n",
    "  'x-datadog-sampling-priority': '1',\n",
    "  'x-datadog-trace-id': '776451047921066142'\n",
    "}"
   ]
  },
  {
   "cell_type": "markdown",
   "id": "dd09d580-ac5e-4652-a8ba-92e39df81215",
   "metadata": {},
   "source": [
    "### Get the data from requests\n",
    "1. Make the request with the specified payload with search term and page\n",
    "2. get the postings json data\n",
    "3. save the data in an array\n",
    "4. convert the data to a dataframe with json_normalize"
   ]
  },
  {
   "cell_type": "code",
   "execution_count": 12,
   "id": "030608c8-248b-4716-9e5d-7b90c00f071a",
   "metadata": {},
   "outputs": [
    {
     "name": "stdout",
     "output_type": "stream",
     "text": [
      "page postings:  465\n",
      "page postings:  465\n",
      "page postings:  465\n",
      "postings half:  1395\n"
     ]
    }
   ],
   "source": [
    "postings_half = [] #for avoicing a block reasons\n",
    "for page in range(1, total_pages//2):\n",
    "    page_url = f\"https://nofluffjobs.com/api/search/posting?page={page}&limit=50&salaryCurrency=PLN&salaryPeriod=month&region=pl\"\n",
    "    page_r = requests.request(\"POST\", url, headers=headers, data=payload)\n",
    "    page_data = page_r.json()\n",
    "    page_postings = page_data['postings']\n",
    "    for post in page_postings:\n",
    "        postings_half.append(post)\n",
    "    print('page postings: ',len(page_postings))\n",
    "print('postings half: ', len(postings_half))"
   ]
  },
  {
   "cell_type": "code",
   "execution_count": 13,
   "id": "d294d47b-1fed-42bc-81ff-5b0018facaa1",
   "metadata": {},
   "outputs": [],
   "source": [
    "half_df = pd.json_normalize(postings_half)\n",
    "# half_df.to_csv(f'fluff_python_half.csv')"
   ]
  },
  {
   "cell_type": "code",
   "execution_count": 14,
   "id": "352629df-1427-48c2-a70f-2e42d7be9b6a",
   "metadata": {
    "scrolled": true
   },
   "outputs": [
    {
     "data": {
      "text/html": [
       "<div>\n",
       "<style scoped>\n",
       "    .dataframe tbody tr th:only-of-type {\n",
       "        vertical-align: middle;\n",
       "    }\n",
       "\n",
       "    .dataframe tbody tr th {\n",
       "        vertical-align: top;\n",
       "    }\n",
       "\n",
       "    .dataframe thead th {\n",
       "        text-align: right;\n",
       "    }\n",
       "</style>\n",
       "<table border=\"1\" class=\"dataframe\">\n",
       "  <thead>\n",
       "    <tr style=\"text-align: right;\">\n",
       "      <th></th>\n",
       "      <th>id</th>\n",
       "      <th>name</th>\n",
       "      <th>posted</th>\n",
       "      <th>renewed</th>\n",
       "      <th>title</th>\n",
       "      <th>technology</th>\n",
       "      <th>category</th>\n",
       "      <th>seniority</th>\n",
       "      <th>url</th>\n",
       "      <th>regions</th>\n",
       "      <th>...</th>\n",
       "      <th>logo.companies_details_webp</th>\n",
       "      <th>logo.companies_listing_webp</th>\n",
       "      <th>logo.companies_details_2x_webp</th>\n",
       "      <th>logo.companies_listing_2x_webp</th>\n",
       "      <th>salary.from</th>\n",
       "      <th>salary.to</th>\n",
       "      <th>salary.type</th>\n",
       "      <th>salary.currency</th>\n",
       "      <th>referralBonus</th>\n",
       "      <th>referralBonusCurrency</th>\n",
       "    </tr>\n",
       "  </thead>\n",
       "  <tbody>\n",
       "    <tr>\n",
       "      <th>0</th>\n",
       "      <td>remote-senior-python-developer-objectivity-par...</td>\n",
       "      <td>Objectivity - part of Accenture</td>\n",
       "      <td>1698751662640</td>\n",
       "      <td>1.701084e+12</td>\n",
       "      <td>Remote Senior Python Developer</td>\n",
       "      <td>Python</td>\n",
       "      <td>backend</td>\n",
       "      <td>[Senior]</td>\n",
       "      <td>remote-senior-python-developer-objectivity-par...</td>\n",
       "      <td>[pl]</td>\n",
       "      <td>...</td>\n",
       "      <td>companies/logos/companies_details/objectivity_...</td>\n",
       "      <td>companies/logos/companies_listing/objectivity_...</td>\n",
       "      <td>companies/logos/companies_details_2x/objectivi...</td>\n",
       "      <td>companies/logos/companies_listing_2x/objectivi...</td>\n",
       "      <td>15960.0</td>\n",
       "      <td>26040.0</td>\n",
       "      <td>b2b</td>\n",
       "      <td>PLN</td>\n",
       "      <td>NaN</td>\n",
       "      <td>NaN</td>\n",
       "    </tr>\n",
       "    <tr>\n",
       "      <th>1</th>\n",
       "      <td>remote-senior-python-developer-objectivity-par...</td>\n",
       "      <td>Objectivity - part of Accenture</td>\n",
       "      <td>1698751662640</td>\n",
       "      <td>1.701084e+12</td>\n",
       "      <td>Remote Senior Python Developer</td>\n",
       "      <td>Python</td>\n",
       "      <td>backend</td>\n",
       "      <td>[Senior]</td>\n",
       "      <td>remote-senior-python-developer-objectivity-par...</td>\n",
       "      <td>[pl]</td>\n",
       "      <td>...</td>\n",
       "      <td>companies/logos/companies_details/objectivity_...</td>\n",
       "      <td>companies/logos/companies_listing/objectivity_...</td>\n",
       "      <td>companies/logos/companies_details_2x/objectivi...</td>\n",
       "      <td>companies/logos/companies_listing_2x/objectivi...</td>\n",
       "      <td>15960.0</td>\n",
       "      <td>26040.0</td>\n",
       "      <td>b2b</td>\n",
       "      <td>PLN</td>\n",
       "      <td>NaN</td>\n",
       "      <td>NaN</td>\n",
       "    </tr>\n",
       "    <tr>\n",
       "      <th>2</th>\n",
       "      <td>remote-senior-python-developer-objectivity-par...</td>\n",
       "      <td>Objectivity - part of Accenture</td>\n",
       "      <td>1698751662640</td>\n",
       "      <td>1.701084e+12</td>\n",
       "      <td>Remote Senior Python Developer</td>\n",
       "      <td>Python</td>\n",
       "      <td>backend</td>\n",
       "      <td>[Senior]</td>\n",
       "      <td>remote-senior-python-developer-objectivity-par...</td>\n",
       "      <td>[pl]</td>\n",
       "      <td>...</td>\n",
       "      <td>companies/logos/companies_details/objectivity_...</td>\n",
       "      <td>companies/logos/companies_listing/objectivity_...</td>\n",
       "      <td>companies/logos/companies_details_2x/objectivi...</td>\n",
       "      <td>companies/logos/companies_listing_2x/objectivi...</td>\n",
       "      <td>15960.0</td>\n",
       "      <td>26040.0</td>\n",
       "      <td>b2b</td>\n",
       "      <td>PLN</td>\n",
       "      <td>NaN</td>\n",
       "      <td>NaN</td>\n",
       "    </tr>\n",
       "    <tr>\n",
       "      <th>3</th>\n",
       "      <td>remote-senior-python-developer-objectivity-par...</td>\n",
       "      <td>Objectivity - part of Accenture</td>\n",
       "      <td>1698751662640</td>\n",
       "      <td>1.701084e+12</td>\n",
       "      <td>Remote Senior Python Developer</td>\n",
       "      <td>Python</td>\n",
       "      <td>backend</td>\n",
       "      <td>[Senior]</td>\n",
       "      <td>remote-senior-python-developer-objectivity-par...</td>\n",
       "      <td>[pl]</td>\n",
       "      <td>...</td>\n",
       "      <td>companies/logos/companies_details/objectivity_...</td>\n",
       "      <td>companies/logos/companies_listing/objectivity_...</td>\n",
       "      <td>companies/logos/companies_details_2x/objectivi...</td>\n",
       "      <td>companies/logos/companies_listing_2x/objectivi...</td>\n",
       "      <td>15960.0</td>\n",
       "      <td>26040.0</td>\n",
       "      <td>b2b</td>\n",
       "      <td>PLN</td>\n",
       "      <td>NaN</td>\n",
       "      <td>NaN</td>\n",
       "    </tr>\n",
       "    <tr>\n",
       "      <th>4</th>\n",
       "      <td>remote-senior-python-developer-objectivity-par...</td>\n",
       "      <td>Objectivity - part of Accenture</td>\n",
       "      <td>1698751662640</td>\n",
       "      <td>1.701084e+12</td>\n",
       "      <td>Remote Senior Python Developer</td>\n",
       "      <td>Python</td>\n",
       "      <td>backend</td>\n",
       "      <td>[Senior]</td>\n",
       "      <td>remote-senior-python-developer-objectivity-par...</td>\n",
       "      <td>[pl]</td>\n",
       "      <td>...</td>\n",
       "      <td>companies/logos/companies_details/objectivity_...</td>\n",
       "      <td>companies/logos/companies_listing/objectivity_...</td>\n",
       "      <td>companies/logos/companies_details_2x/objectivi...</td>\n",
       "      <td>companies/logos/companies_listing_2x/objectivi...</td>\n",
       "      <td>15960.0</td>\n",
       "      <td>26040.0</td>\n",
       "      <td>b2b</td>\n",
       "      <td>PLN</td>\n",
       "      <td>NaN</td>\n",
       "      <td>NaN</td>\n",
       "    </tr>\n",
       "  </tbody>\n",
       "</table>\n",
       "<p>5 rows × 45 columns</p>\n",
       "</div>"
      ],
      "text/plain": [
       "                                                  id  \\\n",
       "0  remote-senior-python-developer-objectivity-par...   \n",
       "1  remote-senior-python-developer-objectivity-par...   \n",
       "2  remote-senior-python-developer-objectivity-par...   \n",
       "3  remote-senior-python-developer-objectivity-par...   \n",
       "4  remote-senior-python-developer-objectivity-par...   \n",
       "\n",
       "                              name         posted       renewed  \\\n",
       "0  Objectivity - part of Accenture  1698751662640  1.701084e+12   \n",
       "1  Objectivity - part of Accenture  1698751662640  1.701084e+12   \n",
       "2  Objectivity - part of Accenture  1698751662640  1.701084e+12   \n",
       "3  Objectivity - part of Accenture  1698751662640  1.701084e+12   \n",
       "4  Objectivity - part of Accenture  1698751662640  1.701084e+12   \n",
       "\n",
       "                            title technology category seniority  \\\n",
       "0  Remote Senior Python Developer     Python  backend  [Senior]   \n",
       "1  Remote Senior Python Developer     Python  backend  [Senior]   \n",
       "2  Remote Senior Python Developer     Python  backend  [Senior]   \n",
       "3  Remote Senior Python Developer     Python  backend  [Senior]   \n",
       "4  Remote Senior Python Developer     Python  backend  [Senior]   \n",
       "\n",
       "                                                 url regions  ...  \\\n",
       "0  remote-senior-python-developer-objectivity-par...    [pl]  ...   \n",
       "1  remote-senior-python-developer-objectivity-par...    [pl]  ...   \n",
       "2  remote-senior-python-developer-objectivity-par...    [pl]  ...   \n",
       "3  remote-senior-python-developer-objectivity-par...    [pl]  ...   \n",
       "4  remote-senior-python-developer-objectivity-par...    [pl]  ...   \n",
       "\n",
       "                         logo.companies_details_webp  \\\n",
       "0  companies/logos/companies_details/objectivity_...   \n",
       "1  companies/logos/companies_details/objectivity_...   \n",
       "2  companies/logos/companies_details/objectivity_...   \n",
       "3  companies/logos/companies_details/objectivity_...   \n",
       "4  companies/logos/companies_details/objectivity_...   \n",
       "\n",
       "                         logo.companies_listing_webp  \\\n",
       "0  companies/logos/companies_listing/objectivity_...   \n",
       "1  companies/logos/companies_listing/objectivity_...   \n",
       "2  companies/logos/companies_listing/objectivity_...   \n",
       "3  companies/logos/companies_listing/objectivity_...   \n",
       "4  companies/logos/companies_listing/objectivity_...   \n",
       "\n",
       "                      logo.companies_details_2x_webp  \\\n",
       "0  companies/logos/companies_details_2x/objectivi...   \n",
       "1  companies/logos/companies_details_2x/objectivi...   \n",
       "2  companies/logos/companies_details_2x/objectivi...   \n",
       "3  companies/logos/companies_details_2x/objectivi...   \n",
       "4  companies/logos/companies_details_2x/objectivi...   \n",
       "\n",
       "                      logo.companies_listing_2x_webp  salary.from salary.to  \\\n",
       "0  companies/logos/companies_listing_2x/objectivi...      15960.0   26040.0   \n",
       "1  companies/logos/companies_listing_2x/objectivi...      15960.0   26040.0   \n",
       "2  companies/logos/companies_listing_2x/objectivi...      15960.0   26040.0   \n",
       "3  companies/logos/companies_listing_2x/objectivi...      15960.0   26040.0   \n",
       "4  companies/logos/companies_listing_2x/objectivi...      15960.0   26040.0   \n",
       "\n",
       "   salary.type  salary.currency referralBonus  referralBonusCurrency  \n",
       "0          b2b              PLN           NaN                    NaN  \n",
       "1          b2b              PLN           NaN                    NaN  \n",
       "2          b2b              PLN           NaN                    NaN  \n",
       "3          b2b              PLN           NaN                    NaN  \n",
       "4          b2b              PLN           NaN                    NaN  \n",
       "\n",
       "[5 rows x 45 columns]"
      ]
     },
     "execution_count": 14,
     "metadata": {},
     "output_type": "execute_result"
    }
   ],
   "source": [
    "half_df.head()"
   ]
  },
  {
   "cell_type": "markdown",
   "id": "607cdc72-67d8-4d3a-8553-963d01701cdd",
   "metadata": {},
   "source": [
    "### Data transformations\n",
    "\n",
    "#### copy dataframe to new object"
   ]
  },
  {
   "cell_type": "code",
   "execution_count": 42,
   "id": "93434b3d-2d0b-49fa-ad35-e2a43630f3ec",
   "metadata": {},
   "outputs": [],
   "source": [
    "df = half_df.copy()"
   ]
  },
  {
   "cell_type": "code",
   "execution_count": 51,
   "id": "78526e02-912b-4f33-a27c-4273db957189",
   "metadata": {},
   "outputs": [
    {
     "data": {
      "text/plain": [
       "['Senior']"
      ]
     },
     "execution_count": 51,
     "metadata": {},
     "output_type": "execute_result"
    }
   ],
   "source": [
    "# test_sen = df['seniority'][0]\n",
    "# test_sen"
   ]
  },
  {
   "cell_type": "markdown",
   "id": "cd527f3e-9964-4c5d-b96b-01252aad8750",
   "metadata": {},
   "source": [
    "#### Export seniority data from list to string"
   ]
  },
  {
   "cell_type": "code",
   "execution_count": 52,
   "id": "44c5a72b-4333-44ee-8af5-7e250e3e9396",
   "metadata": {},
   "outputs": [],
   "source": [
    "df['seniority'] = df['seniority'].apply(lambda x: x[0])"
   ]
  },
  {
   "cell_type": "code",
   "execution_count": 54,
   "id": "0f6a3cca-b179-4ee6-b211-81a5d0c26843",
   "metadata": {},
   "outputs": [
    {
     "data": {
      "text/plain": [
       "seniority\n",
       "Senior    801\n",
       "Mid       261\n",
       "Expert    219\n",
       "Junior    114\n",
       "Name: count, dtype: int64"
      ]
     },
     "execution_count": 54,
     "metadata": {},
     "output_type": "execute_result"
    }
   ],
   "source": [
    "df['seniority'] = df['seniority'].str.replace(r'\\[', '', regex=True)\n",
    "df['seniority'] = df['seniority'].str.replace(r'\\]', '', regex=True)\n",
    "df['seniority'].value_counts()"
   ]
  },
  {
   "cell_type": "markdown",
   "id": "6558064f-02ad-43da-8c3f-d2a1b86b635a",
   "metadata": {},
   "source": [
    "#### Combine salary columns for further processing"
   ]
  },
  {
   "cell_type": "code",
   "execution_count": 58,
   "id": "f5b51b86-698f-42db-8f5f-c9e0b4fef179",
   "metadata": {},
   "outputs": [
    {
     "data": {
      "text/plain": [
       "0    15960.0 - 26040.0\n",
       "1    15960.0 - 26040.0\n",
       "2    15960.0 - 26040.0\n",
       "3    15960.0 - 26040.0\n",
       "4    15960.0 - 26040.0\n",
       "Name: salary, dtype: object"
      ]
     },
     "execution_count": 58,
     "metadata": {},
     "output_type": "execute_result"
    }
   ],
   "source": [
    "df['salary'] = df['salary.from'].astype(str) + ' - ' + df['salary.to'].astype(str)\n",
    "df['salary'].head()"
   ]
  },
  {
   "cell_type": "markdown",
   "id": "eb5e6a31-0e23-4857-a868-b3962751d5ea",
   "metadata": {},
   "source": [
    "#### Transofrm data to conform to scraped data columns"
   ]
  },
  {
   "cell_type": "code",
   "execution_count": null,
   "id": "33d5218a-6577-4100-b60b-3bb5cc357602",
   "metadata": {},
   "outputs": [],
   "source": [
    "class Listing(BaseModel):\n",
    "    title: str\n",
    "    link: str\n",
    "    company: str = None\n",
    "    location: str = None\n",
    "    salary: str = None\n",
    "    description: str = None\n",
    "    date_added: str | datetime = None\n",
    "    skills: List[str] = None\n",
    "    search_term: str = 'python'\n",
    "    date_searched: date = date.today()"
   ]
  },
  {
   "cell_type": "code",
   "execution_count": 59,
   "id": "8711083a-0f9c-40cc-8932-6cd0f22339db",
   "metadata": {},
   "outputs": [
    {
     "data": {
      "text/plain": [
       "Index(['id', 'name', 'posted', 'renewed', 'title', 'technology', 'category',\n",
       "       'seniority', 'url', 'regions', 'fullyRemote', 'flavors', 'topInSearch',\n",
       "       'highlighted', 'help4Ua', 'reference', 'searchBoost',\n",
       "       'onlineInterviewAvailable', 'location.places', 'location.fullyRemote',\n",
       "       'location.covidTimeRemotely', 'logo.original', 'logo.jobs_details',\n",
       "       'logo.jobs_listing', 'logo.jobs_details_2x', 'logo.jobs_listing_2x',\n",
       "       'logo.companies_details', 'logo.companies_listing',\n",
       "       'logo.jobs_details_webp', 'logo.jobs_listing_webp',\n",
       "       'logo.companies_details_2x', 'logo.companies_listing_2x',\n",
       "       'logo.jobs_details_2x_webp', 'logo.jobs_listing_2x_webp',\n",
       "       'logo.original_pixel_image', 'logo.companies_details_webp',\n",
       "       'logo.companies_listing_webp', 'logo.companies_details_2x_webp',\n",
       "       'logo.companies_listing_2x_webp', 'salary.from', 'salary.to',\n",
       "       'salary.type', 'salary.currency', 'referralBonus',\n",
       "       'referralBonusCurrency', 'salary'],\n",
       "      dtype='object')"
      ]
     },
     "execution_count": 59,
     "metadata": {},
     "output_type": "execute_result"
    }
   ],
   "source": [
    "df.columns"
   ]
  },
  {
   "cell_type": "markdown",
   "id": "5f8a3c88-6668-4e34-a9e5-34470b429b25",
   "metadata": {},
   "source": [
    "#### Create new conforming dataframe\n",
    "1. add empty columns where not present in data\n",
    "2. convert dates"
   ]
  },
  {
   "cell_type": "code",
   "execution_count": 76,
   "id": "29341ea2-e1f9-433b-8597-c5177bce2601",
   "metadata": {
    "scrolled": true
   },
   "outputs": [
    {
     "name": "stderr",
     "output_type": "stream",
     "text": [
      "C:\\Users\\User\\AppData\\Local\\Temp\\ipykernel_14244\\1274184536.py:2: SettingWithCopyWarning: \n",
      "A value is trying to be set on a copy of a slice from a DataFrame\n",
      "\n",
      "See the caveats in the documentation: https://pandas.pydata.org/pandas-docs/stable/user_guide/indexing.html#returning-a-view-versus-a-copy\n",
      "  listing_df.rename(columns={'url':'link', 'name':'company',\n",
      "C:\\Users\\User\\AppData\\Local\\Temp\\ipykernel_14244\\1274184536.py:10: SettingWithCopyWarning: \n",
      "A value is trying to be set on a copy of a slice from a DataFrame.\n",
      "Try using .loc[row_indexer,col_indexer] = value instead\n",
      "\n",
      "See the caveats in the documentation: https://pandas.pydata.org/pandas-docs/stable/user_guide/indexing.html#returning-a-view-versus-a-copy\n",
      "  listing_df['date_added'] = listing_df['date_added'].apply(lambda x: datetime.fromtimestamp(x/1000).date())\n"
     ]
    },
    {
     "data": {
      "text/html": [
       "<div>\n",
       "<style scoped>\n",
       "    .dataframe tbody tr th:only-of-type {\n",
       "        vertical-align: middle;\n",
       "    }\n",
       "\n",
       "    .dataframe tbody tr th {\n",
       "        vertical-align: top;\n",
       "    }\n",
       "\n",
       "    .dataframe thead th {\n",
       "        text-align: right;\n",
       "    }\n",
       "</style>\n",
       "<table border=\"1\" class=\"dataframe\">\n",
       "  <thead>\n",
       "    <tr style=\"text-align: right;\">\n",
       "      <th></th>\n",
       "      <th>title</th>\n",
       "      <th>link</th>\n",
       "      <th>company</th>\n",
       "      <th>location</th>\n",
       "      <th>salary</th>\n",
       "      <th>description</th>\n",
       "      <th>date_added</th>\n",
       "      <th>skills</th>\n",
       "      <th>search_term</th>\n",
       "      <th>date_searched</th>\n",
       "    </tr>\n",
       "  </thead>\n",
       "  <tbody>\n",
       "    <tr>\n",
       "      <th>0</th>\n",
       "      <td>Remote Senior Python Developer</td>\n",
       "      <td>remote-senior-python-developer-objectivity-par...</td>\n",
       "      <td>Objectivity - part of Accenture</td>\n",
       "      <td></td>\n",
       "      <td>15960.0 - 26040.0</td>\n",
       "      <td></td>\n",
       "      <td>2023-10-31</td>\n",
       "      <td>Python</td>\n",
       "      <td>python</td>\n",
       "      <td>2023-11-27</td>\n",
       "    </tr>\n",
       "    <tr>\n",
       "      <th>1</th>\n",
       "      <td>Remote Senior Python Developer</td>\n",
       "      <td>remote-senior-python-developer-objectivity-par...</td>\n",
       "      <td>Objectivity - part of Accenture</td>\n",
       "      <td></td>\n",
       "      <td>15960.0 - 26040.0</td>\n",
       "      <td></td>\n",
       "      <td>2023-10-31</td>\n",
       "      <td>Python</td>\n",
       "      <td>python</td>\n",
       "      <td>2023-11-27</td>\n",
       "    </tr>\n",
       "    <tr>\n",
       "      <th>2</th>\n",
       "      <td>Remote Senior Python Developer</td>\n",
       "      <td>remote-senior-python-developer-objectivity-par...</td>\n",
       "      <td>Objectivity - part of Accenture</td>\n",
       "      <td></td>\n",
       "      <td>15960.0 - 26040.0</td>\n",
       "      <td></td>\n",
       "      <td>2023-10-31</td>\n",
       "      <td>Python</td>\n",
       "      <td>python</td>\n",
       "      <td>2023-11-27</td>\n",
       "    </tr>\n",
       "    <tr>\n",
       "      <th>3</th>\n",
       "      <td>Remote Senior Python Developer</td>\n",
       "      <td>remote-senior-python-developer-objectivity-par...</td>\n",
       "      <td>Objectivity - part of Accenture</td>\n",
       "      <td></td>\n",
       "      <td>15960.0 - 26040.0</td>\n",
       "      <td></td>\n",
       "      <td>2023-10-31</td>\n",
       "      <td>Python</td>\n",
       "      <td>python</td>\n",
       "      <td>2023-11-27</td>\n",
       "    </tr>\n",
       "    <tr>\n",
       "      <th>4</th>\n",
       "      <td>Remote Senior Python Developer</td>\n",
       "      <td>remote-senior-python-developer-objectivity-par...</td>\n",
       "      <td>Objectivity - part of Accenture</td>\n",
       "      <td></td>\n",
       "      <td>15960.0 - 26040.0</td>\n",
       "      <td></td>\n",
       "      <td>2023-10-31</td>\n",
       "      <td>Python</td>\n",
       "      <td>python</td>\n",
       "      <td>2023-11-27</td>\n",
       "    </tr>\n",
       "  </tbody>\n",
       "</table>\n",
       "</div>"
      ],
      "text/plain": [
       "                            title  \\\n",
       "0  Remote Senior Python Developer   \n",
       "1  Remote Senior Python Developer   \n",
       "2  Remote Senior Python Developer   \n",
       "3  Remote Senior Python Developer   \n",
       "4  Remote Senior Python Developer   \n",
       "\n",
       "                                                link  \\\n",
       "0  remote-senior-python-developer-objectivity-par...   \n",
       "1  remote-senior-python-developer-objectivity-par...   \n",
       "2  remote-senior-python-developer-objectivity-par...   \n",
       "3  remote-senior-python-developer-objectivity-par...   \n",
       "4  remote-senior-python-developer-objectivity-par...   \n",
       "\n",
       "                           company location             salary description  \\\n",
       "0  Objectivity - part of Accenture           15960.0 - 26040.0               \n",
       "1  Objectivity - part of Accenture           15960.0 - 26040.0               \n",
       "2  Objectivity - part of Accenture           15960.0 - 26040.0               \n",
       "3  Objectivity - part of Accenture           15960.0 - 26040.0               \n",
       "4  Objectivity - part of Accenture           15960.0 - 26040.0               \n",
       "\n",
       "   date_added  skills search_term date_searched  \n",
       "0  2023-10-31  Python      python    2023-11-27  \n",
       "1  2023-10-31  Python      python    2023-11-27  \n",
       "2  2023-10-31  Python      python    2023-11-27  \n",
       "3  2023-10-31  Python      python    2023-11-27  \n",
       "4  2023-10-31  Python      python    2023-11-27  "
      ]
     },
     "execution_count": 76,
     "metadata": {},
     "output_type": "execute_result"
    }
   ],
   "source": [
    "listing_df = df[['title', 'url', 'name', 'salary', 'posted', 'technology']]\n",
    "listing_df.rename(columns={'url':'link', 'name':'company',\n",
    "                          'technology':'skills', \n",
    "                          'posted':'date_added'}, inplace=True)\n",
    "# listing_df.columns.get_loc('company')\n",
    "listing_df.insert(listing_df.columns.get_loc('company')+1, 'location', '')\n",
    "listing_df.insert(listing_df.columns.get_loc('salary')+1, 'description', '')\n",
    "listing_df.insert(listing_df.columns.get_loc('skills')+1, 'search_term', search_tech.lower())\n",
    "listing_df.insert(listing_df.columns.get_loc('search_term')+1, 'date_searched', date.today())\n",
    "listing_df['date_added'] = listing_df['date_added'].apply(lambda x: datetime.fromtimestamp(x/1000).date())\n",
    "# listing_df['date_added'] = datetime.fromtimestamp(listing_df['date_added']/1000).date()\n",
    "listing_df.head()"
   ]
  },
  {
   "cell_type": "code",
   "execution_count": 78,
   "id": "d77e5711-0bd8-43ee-9920-7f2354146cf5",
   "metadata": {},
   "outputs": [],
   "source": [
    "# steps:\n",
    "# rename 'name' to 'company'\n",
    "# 'location' is empty\n",
    "# 'description' is empty\n",
    "# rename 'technology' to skills\n",
    "# rename 'posted' to 'date_added'\n",
    "# add 'search_term' column\n",
    "# add 'date_searched' column"
   ]
  },
  {
   "cell_type": "code",
   "execution_count": 77,
   "id": "875d3a7a-8093-49e6-b915-86726470d084",
   "metadata": {},
   "outputs": [],
   "source": [
    "# df['logo.jobs_details'].head()"
   ]
  },
  {
   "cell_type": "code",
   "execution_count": 80,
   "id": "4290029f-3eba-413e-964d-de16b32a4704",
   "metadata": {},
   "outputs": [
    {
     "data": {
      "text/plain": [
       "(1395, 10)"
      ]
     },
     "execution_count": 80,
     "metadata": {},
     "output_type": "execute_result"
    }
   ],
   "source": [
    "listing_df.shape"
   ]
  },
  {
   "cell_type": "markdown",
   "id": "a9699253-bd56-4c70-a768-806fbffd4751",
   "metadata": {},
   "source": [
    "### Export to csv"
   ]
  },
  {
   "cell_type": "code",
   "execution_count": 83,
   "id": "dd90fa29-7652-4e15-8b90-7f950d057c48",
   "metadata": {},
   "outputs": [],
   "source": [
    "import os\n",
    "today = date.today()\n",
    "path = r'./scraping_results/' + str(today) + r'/nofluff'\n",
    "if not os.path.exists(path):\n",
    "    os.makedirs(path)\n",
    "path += '/'\n",
    "listing_df.to_csv(path + f'nofluff_{search_tech}_{today}.csv')"
   ]
  }
 ],
 "metadata": {
  "kernelspec": {
   "display_name": "venv",
   "language": "python",
   "name": "venv"
  },
  "language_info": {
   "codemirror_mode": {
    "name": "ipython",
    "version": 3
   },
   "file_extension": ".py",
   "mimetype": "text/x-python",
   "name": "python",
   "nbconvert_exporter": "python",
   "pygments_lexer": "ipython3",
   "version": "3.10.9"
  }
 },
 "nbformat": 4,
 "nbformat_minor": 5
}
