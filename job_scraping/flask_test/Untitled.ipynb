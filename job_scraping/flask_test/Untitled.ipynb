{
 "cells": [
  {
   "cell_type": "code",
   "execution_count": 3,
   "id": "ea0794e2-ebd5-4cb2-b801-9a1a5aadd121",
   "metadata": {},
   "outputs": [],
   "source": [
    "import re\n",
    "import pandas as pd"
   ]
  },
  {
   "cell_type": "code",
   "execution_count": 2,
   "id": "dcc3bda5-b4d2-4250-a025-8ae643bd8e8e",
   "metadata": {},
   "outputs": [],
   "source": [
    "text = 'careerjet_pracuj_django_2023-11-27.csv'"
   ]
  },
  {
   "cell_type": "code",
   "execution_count": 3,
   "id": "1d06acaf-5d36-4d73-a6c0-4372dd4fea5e",
   "metadata": {},
   "outputs": [],
   "source": [
    "date_regex = re.compile(r'(.*)(\\d{4}-\\d{2}-\\d{2})')"
   ]
  },
  {
   "cell_type": "code",
   "execution_count": 4,
   "id": "c0233726-a610-46e7-8544-3d1468399945",
   "metadata": {},
   "outputs": [
    {
     "name": "stdout",
     "output_type": "stream",
     "text": [
      "2023-11-27\n",
      "careerjet_pracuj_django_\n"
     ]
    }
   ],
   "source": [
    "if text.endswith('.csv'):\n",
    "    result = date_regex.search(text)\n",
    "    term = result.group(1)\n",
    "    date = result.group(2)\n",
    "    print(date)\n",
    "    print(term)"
   ]
  },
  {
   "cell_type": "code",
   "execution_count": 4,
   "id": "d0f677bc-28b8-4d63-afd8-7afefb94ee21",
   "metadata": {},
   "outputs": [],
   "source": [
    "empty_df = pd.DataFrame(columns=['title', 'link', 'company', 'location', 'salary',\n",
    "                               'description','date_added', 'skills', 'search_term',\n",
    "                               'date_searched'])"
   ]
  },
  {
   "cell_type": "code",
   "execution_count": 5,
   "id": "23f20062-08c1-4914-a83a-bed10c0257e8",
   "metadata": {},
   "outputs": [
    {
     "data": {
      "text/plain": [
       "0"
      ]
     },
     "execution_count": 5,
     "metadata": {},
     "output_type": "execute_result"
    }
   ],
   "source": [
    "len(empty_df)"
   ]
  },
  {
   "cell_type": "code",
   "execution_count": 7,
   "id": "c522f7a6-cf5c-45ab-8756-917b1667d5c6",
   "metadata": {},
   "outputs": [
    {
     "name": "stdout",
     "output_type": "stream",
     "text": [
      "false\n"
     ]
    }
   ],
   "source": [
    "if len(empty_df):\n",
    "    print(\"trueeee\")\n",
    "else:\n",
    "    print(\"false\")"
   ]
  },
  {
   "cell_type": "code",
   "execution_count": 15,
   "id": "1c998ae1-9895-4efa-a863-68666047bcbc",
   "metadata": {},
   "outputs": [
    {
     "name": "stdout",
     "output_type": "stream",
     "text": [
      "trueeee\n"
     ]
    }
   ],
   "source": [
    "if empty_df.empty:\n",
    "    print(\"trueeee\")\n",
    "else:\n",
    "    print(\"false\")"
   ]
  }
 ],
 "metadata": {
  "kernelspec": {
   "display_name": "venv",
   "language": "python",
   "name": "venv"
  },
  "language_info": {
   "codemirror_mode": {
    "name": "ipython",
    "version": 3
   },
   "file_extension": ".py",
   "mimetype": "text/x-python",
   "name": "python",
   "nbconvert_exporter": "python",
   "pygments_lexer": "ipython3",
   "version": "3.10.9"
  }
 },
 "nbformat": 4,
 "nbformat_minor": 5
}
