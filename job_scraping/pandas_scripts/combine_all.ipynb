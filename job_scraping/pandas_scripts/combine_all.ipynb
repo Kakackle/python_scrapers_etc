{
 "cells": [
  {
   "cell_type": "markdown",
   "id": "212e8507-e49c-45f6-8bad-33e2dd613d25",
   "metadata": {},
   "source": [
    "### Combine all datasets from scraping results for a specified combine term (eg. 'python')"
   ]
  },
  {
   "cell_type": "code",
   "execution_count": 1,
   "id": "dbaf8097-c35c-4c5d-95b6-56916140d0c7",
   "metadata": {},
   "outputs": [],
   "source": [
    "import os\n",
    "import pandas as pd\n",
    "import re\n",
    "from datetime import datetime, date"
   ]
  },
  {
   "cell_type": "markdown",
   "id": "0b2dafe7-113e-4447-b69e-4b3e2ace6b89",
   "metadata": {},
   "source": [
    "### Specify which search term results you want to combine"
   ]
  },
  {
   "cell_type": "code",
   "execution_count": 2,
   "id": "29be2040-9272-4719-b6d5-6177cb9c1632",
   "metadata": {},
   "outputs": [],
   "source": [
    "combine_term = 'django'"
   ]
  },
  {
   "cell_type": "markdown",
   "id": "a942ddd1-4721-40a0-952b-2a270250faa0",
   "metadata": {},
   "source": [
    "### Include / exclude combined / individual / fluff results"
   ]
  },
  {
   "cell_type": "code",
   "execution_count": 3,
   "id": "0ad452fe-9c32-4a6b-bdd5-28fb03a92b27",
   "metadata": {},
   "outputs": [],
   "source": [
    "base_path = '../scraping_results/'\n",
    "paths = [\n",
    "    'combined',\n",
    "    'fluff'\n",
    "]\n"
   ]
  },
  {
   "cell_type": "markdown",
   "id": "3b6f759a-c91c-4b5a-975b-736aed668dd5",
   "metadata": {},
   "source": [
    "#### Get to scraping results directory"
   ]
  },
  {
   "cell_type": "code",
   "execution_count": 4,
   "id": "de5c0b9f-3490-4c1d-94b1-cf42249afeca",
   "metadata": {},
   "outputs": [],
   "source": [
    "os.chdir(base_path)"
   ]
  },
  {
   "cell_type": "code",
   "execution_count": 5,
   "id": "c8d140bd-76bb-4335-9f2a-b70c8b244e02",
   "metadata": {},
   "outputs": [
    {
     "data": {
      "text/plain": [
       "'C:\\\\Users\\\\User\\\\Desktop\\\\programowanie_web_etc\\\\python_projects\\\\scrapers\\\\job_scraping\\\\scraping_results'"
      ]
     },
     "execution_count": 5,
     "metadata": {},
     "output_type": "execute_result"
    }
   ],
   "source": [
    "os.getcwd()"
   ]
  },
  {
   "cell_type": "markdown",
   "id": "637eb44b-d26a-4746-9e8b-bc917b77fca0",
   "metadata": {},
   "source": [
    "### Get appropirate subdirectories before looking for files within them"
   ]
  },
  {
   "cell_type": "code",
   "execution_count": 6,
   "id": "3eec96a6-1c43-496c-9524-2d3142b9614c",
   "metadata": {},
   "outputs": [],
   "source": [
    "directories = []\n",
    "date_regex = re.compile(r'\\d{4}-\\d{2}-\\d{2}')\n",
    "\n",
    "for item in os.listdir():\n",
    "    if os.path.isdir(item):\n",
    "        # print(item)\n",
    "        # if date_regex.match(str(item)):\n",
    "        if item == combine_term:\n",
    "            date_dirs = os.listdir(item)\n",
    "            for date_dir in date_dirs:\n",
    "                if date_regex.match(str(date_dir)):\n",
    "                    # print(item)\n",
    "                    directories.append(date_dir)\n",
    "        "
   ]
  },
  {
   "cell_type": "code",
   "execution_count": 7,
   "id": "383d5608-d049-4148-851a-2107c16cb9fd",
   "metadata": {},
   "outputs": [
    {
     "data": {
      "text/plain": [
       "['2023-11-27']"
      ]
     },
     "execution_count": 7,
     "metadata": {},
     "output_type": "execute_result"
    }
   ],
   "source": [
    "directories"
   ]
  },
  {
   "cell_type": "code",
   "execution_count": 8,
   "id": "276f186f-369f-4c05-935c-1348ae750c58",
   "metadata": {},
   "outputs": [],
   "source": [
    "# os.chdir('scraping_results')"
   ]
  },
  {
   "cell_type": "markdown",
   "id": "76feca02-8ecb-4a8b-a9c9-395a2c5eaf81",
   "metadata": {},
   "source": [
    "#### Quick debug dir traversal"
   ]
  },
  {
   "cell_type": "code",
   "execution_count": 9,
   "id": "abe9e654-8ba8-4ae5-b0dc-3dbf624605cf",
   "metadata": {},
   "outputs": [],
   "source": [
    "# os.chdir(\"..\")"
   ]
  },
  {
   "cell_type": "code",
   "execution_count": 10,
   "id": "04439d2f-ce06-4863-aef2-c490582e7639",
   "metadata": {},
   "outputs": [],
   "source": [
    "# os.getcwd()"
   ]
  },
  {
   "cell_type": "code",
   "execution_count": 11,
   "id": "1158a230-7845-4a55-8f44-1c3884263fc4",
   "metadata": {},
   "outputs": [],
   "source": [
    "# os.listdir()"
   ]
  },
  {
   "cell_type": "code",
   "execution_count": 12,
   "id": "51912804-6b27-464a-b9e7-1578d342709d",
   "metadata": {},
   "outputs": [
    {
     "data": {
      "text/html": [
       "<div>\n",
       "<style scoped>\n",
       "    .dataframe tbody tr th:only-of-type {\n",
       "        vertical-align: middle;\n",
       "    }\n",
       "\n",
       "    .dataframe tbody tr th {\n",
       "        vertical-align: top;\n",
       "    }\n",
       "\n",
       "    .dataframe thead th {\n",
       "        text-align: right;\n",
       "    }\n",
       "</style>\n",
       "<table border=\"1\" class=\"dataframe\">\n",
       "  <thead>\n",
       "    <tr style=\"text-align: right;\">\n",
       "      <th></th>\n",
       "      <th>title</th>\n",
       "      <th>link</th>\n",
       "      <th>company</th>\n",
       "      <th>location</th>\n",
       "      <th>salary</th>\n",
       "      <th>description</th>\n",
       "      <th>date_added</th>\n",
       "      <th>skills</th>\n",
       "      <th>search_term</th>\n",
       "      <th>date_searched</th>\n",
       "    </tr>\n",
       "  </thead>\n",
       "  <tbody>\n",
       "  </tbody>\n",
       "</table>\n",
       "</div>"
      ],
      "text/plain": [
       "Empty DataFrame\n",
       "Columns: [title, link, company, location, salary, description, date_added, skills, search_term, date_searched]\n",
       "Index: []"
      ]
     },
     "execution_count": 12,
     "metadata": {},
     "output_type": "execute_result"
    }
   ],
   "source": [
    "all_df = pd.DataFrame(columns=['title', 'link', 'company', 'location', 'salary',\n",
    "                                   'description','date_added', 'skills', 'search_term',\n",
    "                                   'date_searched'])\n",
    "all_df.head()"
   ]
  },
  {
   "cell_type": "markdown",
   "id": "c20f2ffa-916d-41ec-bad6-4546f1cb9b79",
   "metadata": {},
   "source": [
    "#### Go to the search term directory"
   ]
  },
  {
   "cell_type": "code",
   "execution_count": 13,
   "id": "bd4d171e-969b-409d-a149-b3e7da4baf78",
   "metadata": {},
   "outputs": [],
   "source": [
    "os.chdir(combine_term)"
   ]
  },
  {
   "cell_type": "code",
   "execution_count": 14,
   "id": "15273079-51ea-4e5c-8272-c24bed49f5d3",
   "metadata": {},
   "outputs": [],
   "source": [
    "# os.getcwd()"
   ]
  },
  {
   "cell_type": "code",
   "execution_count": 15,
   "id": "e8ad742f-b87d-4a72-8891-204a8ef2d66f",
   "metadata": {},
   "outputs": [],
   "source": [
    "# os.chdir('..')"
   ]
  },
  {
   "cell_type": "code",
   "execution_count": 16,
   "id": "25a621c8-57dc-4c2e-9247-0778c5c9ed5a",
   "metadata": {},
   "outputs": [],
   "source": [
    "# os.listdir()"
   ]
  },
  {
   "cell_type": "markdown",
   "id": "1265d325-be3e-4c82-b631-48cd5039626d",
   "metadata": {},
   "source": [
    "#### Traverse found firs and add up the dataframes from found .csv files"
   ]
  },
  {
   "cell_type": "code",
   "execution_count": 17,
   "id": "21bb1c21-d75c-4445-a773-384e29082ff6",
   "metadata": {},
   "outputs": [
    {
     "name": "stdout",
     "output_type": "stream",
     "text": [
      "before changing:  C:\\Users\\User\\Desktop\\programowanie_web_etc\\python_projects\\scrapers\\job_scraping\\scraping_results\\django\n",
      "currently looking at:  C:\\Users\\User\\Desktop\\programowanie_web_etc\\python_projects\\scrapers\\job_scraping\\scraping_results\\django\\2023-11-27\n",
      "c_path: careerjet_pracuj_django_2023-11-27.csv type: <class 'str'>\n",
      "shape: (83, 10)\n",
      "total shape:\n",
      "(83, 10)\n"
     ]
    }
   ],
   "source": [
    "for directory in directories:\n",
    "    print('before changing: ', os.getcwd())\n",
    "    os.chdir(directory)\n",
    "    print('currently looking at: ', os.getcwd())\n",
    "    # print(os.listdir())\n",
    "    # print(combined_path)\n",
    "    \n",
    "    # get the 'combined' subdir\n",
    "    try:\n",
    "        os.chdir('combined')\n",
    "        combined_paths = os.listdir()\n",
    "        for c_path in combined_paths:\n",
    "            print(f\"c_path: {c_path} type: {type(c_path)}\")\n",
    "            if c_path.endswith(\".csv\"):\n",
    "                combined_df = pd.read_csv(c_path, index_col = 0)\n",
    "                print(f\"shape: {combined_df.shape}\")\n",
    "                all_df = pd.concat([all_df, combined_df])\n",
    "        # go back to the dates directory\n",
    "        os.chdir(\"..\")\n",
    "    except:\n",
    "        pass\n",
    "    # os.chdir(\"..\")\n",
    "    # get the 'nofluff' subdir\n",
    "    try:\n",
    "        os.chdir('nofluff')\n",
    "        combined_paths = os.listdir()\n",
    "        for c_path in combined_paths:\n",
    "            print(f\"c_path: {c_path}\")\n",
    "            if c_path.endswith(\".csv\"):\n",
    "                combined_df = pd.read_csv(c_path, index_col = 0)\n",
    "                print(f\"shape: {combined_df.shape}\")\n",
    "                all_df = pd.concat([all_df, combined_df])\n",
    "        # go back to the dates directory\n",
    "        os.chdir(\"..\")\n",
    "    except:\n",
    "        pass\n",
    "    # go back to the search term directory\n",
    "    os.chdir(\"..\")\n",
    "print(\"total shape:\")\n",
    "print(all_df.shape)\n",
    "# go back\n",
    "os.chdir(\"..\")\n",
    "    # combined_df = pd.read_csv('combined/"
   ]
  },
  {
   "cell_type": "code",
   "execution_count": 18,
   "id": "8870ee0b-e8cc-4eb4-8eb4-fd2f958e1302",
   "metadata": {},
   "outputs": [],
   "source": [
    "# \"careerjet_pracuj_python_2023-11-25.csv\".endswith('.csv')"
   ]
  },
  {
   "cell_type": "code",
   "execution_count": 19,
   "id": "e6e2ad9f-9ba1-475f-85d8-9335c427b41b",
   "metadata": {},
   "outputs": [],
   "source": [
    "# os.getcwd()\n",
    "# os.chdir('2023-11-25')\n",
    "# os.getcwd()\n",
    "# os.chdir('combined')\n",
    "# combined_df = pd.read_csv('careerjet_pracuj_python_2023-11-25.csv', index_col = 0)\n",
    "# combined_df.shape"
   ]
  },
  {
   "cell_type": "markdown",
   "id": "4ec2f447-4c91-43c8-a07f-67b465e7adfb",
   "metadata": {},
   "source": [
    "### Save the combined dataframe"
   ]
  },
  {
   "cell_type": "code",
   "execution_count": 20,
   "id": "6d8ec5f7-3abe-4ca3-85ee-75f2b6229385",
   "metadata": {},
   "outputs": [
    {
     "data": {
      "text/plain": [
       "'C:\\\\Users\\\\User\\\\Desktop\\\\programowanie_web_etc\\\\python_projects\\\\scrapers\\\\job_scraping\\\\scraping_results'"
      ]
     },
     "execution_count": 20,
     "metadata": {},
     "output_type": "execute_result"
    }
   ],
   "source": [
    "os.getcwd()"
   ]
  },
  {
   "cell_type": "code",
   "execution_count": 21,
   "id": "9a03aaf0-0197-45e2-acd6-abbc62367d8f",
   "metadata": {},
   "outputs": [],
   "source": [
    "today = str(date.today())\n",
    "# if not os.path.exists(today):\n",
    "#     os.makedirs(today)\n",
    "# os.chdir(today)\n",
    "path = 'combined' + '/' + combine_term\n",
    "if not os.path.exists(path):\n",
    "    os.makedirs(path)\n",
    "path += '/'\n",
    "all_df.to_csv(path + f'{combine_term}_{today}.csv')"
   ]
  },
  {
   "cell_type": "code",
   "execution_count": 22,
   "id": "5df078db-d781-4968-8377-b64e923f6281",
   "metadata": {},
   "outputs": [
    {
     "ename": "SyntaxError",
     "evalue": "invalid decimal literal (835828862.py, line 1)",
     "output_type": "error",
     "traceback": [
      "\u001b[1;36m  Cell \u001b[1;32mIn[22], line 1\u001b[1;36m\u001b[0m\n\u001b[1;33m    job_scraping/scraping_results/python_2023-11-28.csv\u001b[0m\n\u001b[1;37m                                                   ^\u001b[0m\n\u001b[1;31mSyntaxError\u001b[0m\u001b[1;31m:\u001b[0m invalid decimal literal\n"
     ]
    }
   ],
   "source": [
    "# job_scraping/scraping_results/python_2023-11-28.csv"
   ]
  },
  {
   "cell_type": "code",
   "execution_count": null,
   "id": "0f9e563e-54d0-45f1-aec7-f558148d564d",
   "metadata": {},
   "outputs": [],
   "source": []
  }
 ],
 "metadata": {
  "kernelspec": {
   "display_name": "venv",
   "language": "python",
   "name": "venv"
  },
  "language_info": {
   "codemirror_mode": {
    "name": "ipython",
    "version": 3
   },
   "file_extension": ".py",
   "mimetype": "text/x-python",
   "name": "python",
   "nbconvert_exporter": "python",
   "pygments_lexer": "ipython3",
   "version": "3.10.9"
  }
 },
 "nbformat": 4,
 "nbformat_minor": 5
}
