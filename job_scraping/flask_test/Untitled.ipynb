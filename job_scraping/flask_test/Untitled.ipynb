{
 "cells": [
  {
   "cell_type": "code",
   "execution_count": 1,
   "id": "ea0794e2-ebd5-4cb2-b801-9a1a5aadd121",
   "metadata": {},
   "outputs": [],
   "source": [
    "import re"
   ]
  },
  {
   "cell_type": "code",
   "execution_count": 2,
   "id": "dcc3bda5-b4d2-4250-a025-8ae643bd8e8e",
   "metadata": {},
   "outputs": [],
   "source": [
    "text = 'careerjet_pracuj_django_2023-11-27.csv'"
   ]
  },
  {
   "cell_type": "code",
   "execution_count": 3,
   "id": "1d06acaf-5d36-4d73-a6c0-4372dd4fea5e",
   "metadata": {},
   "outputs": [],
   "source": [
    "date_regex = re.compile(r'(.*)(\\d{4}-\\d{2}-\\d{2})')"
   ]
  },
  {
   "cell_type": "code",
   "execution_count": 4,
   "id": "c0233726-a610-46e7-8544-3d1468399945",
   "metadata": {},
   "outputs": [
    {
     "name": "stdout",
     "output_type": "stream",
     "text": [
      "2023-11-27\n",
      "careerjet_pracuj_django_\n"
     ]
    }
   ],
   "source": [
    "if text.endswith('.csv'):\n",
    "    result = date_regex.search(text)\n",
    "    term = result.group(1)\n",
    "    date = result.group(2)\n",
    "    print(date)\n",
    "    print(term)"
   ]
  }
 ],
 "metadata": {
  "kernelspec": {
   "display_name": "venv",
   "language": "python",
   "name": "venv"
  },
  "language_info": {
   "codemirror_mode": {
    "name": "ipython",
    "version": 3
   },
   "file_extension": ".py",
   "mimetype": "text/x-python",
   "name": "python",
   "nbconvert_exporter": "python",
   "pygments_lexer": "ipython3",
   "version": "3.10.9"
  }
 },
 "nbformat": 4,
 "nbformat_minor": 5
}
