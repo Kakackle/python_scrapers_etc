{
 "cells": [
  {
   "cell_type": "code",
   "execution_count": 1,
   "id": "ea0794e2-ebd5-4cb2-b801-9a1a5aadd121",
   "metadata": {},
   "outputs": [],
   "source": [
    "import re"
   ]
  },
  {
   "cell_type": "code",
   "execution_count": null,
   "id": "dcc3bda5-b4d2-4250-a025-8ae643bd8e8e",
   "metadata": {},
   "outputs": [],
   "source": [
    "text = 'careerjet_pracuj_django_2023-11-27.csv'"
   ]
  }
 ],
 "metadata": {
  "kernelspec": {
   "display_name": "venv",
   "language": "python",
   "name": "venv"
  },
  "language_info": {
   "codemirror_mode": {
    "name": "ipython",
    "version": 3
   },
   "file_extension": ".py",
   "mimetype": "text/x-python",
   "name": "python",
   "nbconvert_exporter": "python",
   "pygments_lexer": "ipython3",
   "version": "3.10.9"
  }
 },
 "nbformat": 4,
 "nbformat_minor": 5
}
