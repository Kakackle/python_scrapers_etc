{
 "cells": [
  {
   "cell_type": "markdown",
   "id": "26b07689-4581-4ab5-8b92-dab3696fb9c2",
   "metadata": {},
   "source": [
    "## Scraping jobs listing from multiple sites over multiple pages and save them to separate .csv files first, then try to combine them"
   ]
  },
  {
   "cell_type": "code",
   "execution_count": 17,
   "id": "f81d28d2-137f-4d7d-83f8-23a6ad6f2dfd",
   "metadata": {},
   "outputs": [],
   "source": [
    "import requests\n",
    "from bs4 import BeautifulSoup as bs\n",
    "from pydantic import BaseModel\n",
    "from typing import List, Optional\n",
    "from datetime import datetime\n",
    "import re\n",
    "import pandas as pd\n",
    "from datetime import datetime"
   ]
  },
  {
   "cell_type": "markdown",
   "id": "6da70ba7-1bde-4b1b-8075-2a0f467689d3",
   "metadata": {},
   "source": [
    "### Specify the search term"
   ]
  },
  {
   "cell_type": "code",
   "execution_count": 2,
   "id": "836700fb-73ec-4760-abb2-9be26371d5a8",
   "metadata": {},
   "outputs": [],
   "source": [
    "search_term = 'python'"
   ]
  },
  {
   "cell_type": "code",
   "execution_count": 14,
   "id": "e6bcf7c8-5d7f-4ca0-89dd-607fac3130ac",
   "metadata": {},
   "outputs": [],
   "source": [
    "page = 1\n",
    "urls = [\n",
    "    'https://www.careerjet.pl/{search_term}-praca.html?radius=0&p={page}&sort=date',\n",
    "    'https://it.pracuj.pl/praca/{search_term};kw?sc=0&pn={page}'\n",
    "]"
   ]
  },
  {
   "cell_type": "markdown",
   "id": "df4601e7-b21b-4c14-ae7c-6e9305f1f5a1",
   "metadata": {},
   "source": [
    "### Model for listings"
   ]
  },
  {
   "cell_type": "code",
   "execution_count": 36,
   "id": "80a745b9-2a75-4f99-9ea9-0bf9fde32747",
   "metadata": {},
   "outputs": [],
   "source": [
    "class Listing(BaseModel):\n",
    "    title: str\n",
    "    link: str\n",
    "    company: str = None\n",
    "    location: str = None\n",
    "    salary: int = None\n",
    "    description: str = None\n",
    "    date_added: str | datetime = None\n",
    "    skills: List[str] = None"
   ]
  },
  {
   "cell_type": "markdown",
   "id": "df3d19c1-a45b-4a34-940e-cf1b23dc3bc0",
   "metadata": {},
   "source": [
    "### Data extraction functions"
   ]
  },
  {
   "cell_type": "code",
   "execution_count": 39,
   "id": "25f6e26a-cd94-4c69-a829-6f3203b61f9c",
   "metadata": {},
   "outputs": [],
   "source": [
    "def extract_careerjet(soup):\n",
    "    page_objects = []\n",
    "    listings = soup.find('ul', attrs={'class': 'jobs'})\n",
    "    listings_arr = listings.find_all('article', attrs={'class': 'job'})\n",
    "    for listing in listings_arr:\n",
    "        listing_link = listing.get('data-url')\n",
    "        link = f'careerjet.pl{listing_link}'\n",
    "\n",
    "        title = listings.header.h2.getText().strip()\n",
    "\n",
    "        obj = Listing(title = title, link = link)\n",
    "        page_objects.append(obj)\n",
    "    print(f'careerjet page {page} objects: ', len(page_objects))\n",
    "    return page_objects"
   ]
  },
  {
   "cell_type": "code",
   "execution_count": 40,
   "id": "b5682caa-2a6a-4436-8907-d4374b1d5635",
   "metadata": {},
   "outputs": [],
   "source": [
    "def extract_pracuj(soup):\n",
    "    page_objects = []\n",
    "    listings = soup.find('div', attrs={'data-test': 'section-offers'})\n",
    "    listings_arr = listings.find_all(class_='c1fljezf')\n",
    "    \n",
    "    for listing in listings_arr:\n",
    "        try:\n",
    "            listing_link = listing.find('a', attrs={'data-test': 'link-offer'}).get('href')\n",
    "        except:\n",
    "            listing_link = ''\n",
    "\n",
    "        try:\n",
    "            listing_title = listing.find('h2', attrs={'data-test': 'offer-title'}).a.getText()\n",
    "        except:\n",
    "            listing_title = ''\n",
    "            \n",
    "        obj = Listing(title = listing_title, link = listing_link)\n",
    "        page_objects.append(obj)\n",
    "        \n",
    "    print(f'pracuj.pl page {page} objects: ', len(page_objects))\n",
    "    return page_objects   "
   ]
  },
  {
   "cell_type": "code",
   "execution_count": 41,
   "id": "ca6ea455-9f70-4541-a2d9-77d668bf5f9d",
   "metadata": {},
   "outputs": [],
   "source": [
    "extractors = [\n",
    "    extract_careerjet,\n",
    "    extract_pracuj\n",
    "]"
   ]
  },
  {
   "cell_type": "markdown",
   "id": "7f64ccd2-c8b6-4145-b013-54e130e63f5a",
   "metadata": {},
   "source": [
    "### Looping through the first 5 pages, within looping through the urls / providers"
   ]
  },
  {
   "cell_type": "code",
   "execution_count": 42,
   "id": "9085bcb3-05b4-400f-b871-34cdb53fab9a",
   "metadata": {},
   "outputs": [
    {
     "name": "stdout",
     "output_type": "stream",
     "text": [
      "careerjet page 1 objects:  20\n",
      "careerjet page 2 objects:  20\n",
      "pracuj.pl page 1 objects:  50\n",
      "pracuj.pl page 2 objects:  50\n",
      "all listings:  140\n"
     ]
    }
   ],
   "source": [
    "listings_objects = []\n",
    "for url_index, url in enumerate(urls):\n",
    "    for page in range(1,2+1):\n",
    "        page_url = url.format(search_term=search_term, page=page)\n",
    "        page_response = requests.get(page_url)\n",
    "        page_html = page_response.text\n",
    "        page_soup = bs(page_html, 'html.parser')\n",
    "        page_objects = extractors[url_index](page_soup)\n",
    "        listings_objects.extend(page_objects)\n",
    "print('all listings: ', len(listings_objects))"
   ]
  },
  {
   "cell_type": "code",
   "execution_count": 43,
   "id": "53801ee4-894f-4e3f-8d86-f6cddbc6d06f",
   "metadata": {
    "collapsed": true,
    "jupyter": {
     "outputs_hidden": true
    },
    "scrolled": true
   },
   "outputs": [
    {
     "name": "stdout",
     "output_type": "stream",
     "text": [
      "                                   title  \\\n",
      "0  Software Development Engineer in Test   \n",
      "1  Software Development Engineer in Test   \n",
      "2  Software Development Engineer in Test   \n",
      "3  Software Development Engineer in Test   \n",
      "4  Software Development Engineer in Test   \n",
      "\n",
      "                                                link company location  \\\n",
      "0  careerjet.pl/jobad/plbaec24941a296374129f0a069...    None     None   \n",
      "1  careerjet.pl/jobad/pl0aebd21ce203844c2227dd949...    None     None   \n",
      "2  careerjet.pl/jobad/plc9f07a5262f4157450ec5fe06...    None     None   \n",
      "3  careerjet.pl/jobad/pl8ca043620f35a2cb25fd68afb...    None     None   \n",
      "4  careerjet.pl/jobad/pl6063d8bd71361d945b2d89f9e...    None     None   \n",
      "\n",
      "  description date_added skills  \n",
      "0        None       None   None  \n",
      "1        None       None   None  \n",
      "2        None       None   None  \n",
      "3        None       None   None  \n",
      "4        None       None   None  \n"
     ]
    },
    {
     "name": "stderr",
     "output_type": "stream",
     "text": [
      "C:\\Users\\User\\AppData\\Local\\Temp\\ipykernel_12588\\3227278432.py:1: PydanticDeprecatedSince20: The `dict` method is deprecated; use `model_dump` instead. Deprecated in Pydantic V2.0 to be removed in V3.0. See Pydantic V2 Migration Guide at https://errors.pydantic.dev/2.5/migration/\n",
      "  listings_pd = pd.DataFrame([obj.dict() for obj in listings_objects])\n"
     ]
    }
   ],
   "source": [
    "listings_pd = pd.DataFrame([obj.dict() for obj in listings_objects])\n",
    "print(listings_pd.head())"
   ]
  },
  {
   "cell_type": "code",
   "execution_count": 44,
   "id": "c9e1e700-49ce-4c28-9d27-6821cdab3e8e",
   "metadata": {
    "collapsed": true,
    "jupyter": {
     "outputs_hidden": true
    },
    "scrolled": true
   },
   "outputs": [
    {
     "data": {
      "text/plain": [
       "Index(['title', 'link', 'company', 'location', 'description', 'date_added',\n",
       "       'skills'],\n",
       "      dtype='object')"
      ]
     },
     "execution_count": 44,
     "metadata": {},
     "output_type": "execute_result"
    }
   ],
   "source": [
    "listings_pd.columns"
   ]
  },
  {
   "cell_type": "code",
   "execution_count": 46,
   "id": "8ddecf6e-16b5-4c6e-87bb-8bc91b0a14a1",
   "metadata": {},
   "outputs": [],
   "source": [
    "listings_pd.to_csv(f'2pages_career_pracuj.csv')"
   ]
  },
  {
   "cell_type": "markdown",
   "id": "77da03b4-fb9e-46bb-aa86-50fb684f9144",
   "metadata": {},
   "source": [
    "### Fast pandas operations"
   ]
  },
  {
   "cell_type": "code",
   "execution_count": 48,
   "id": "5112806a-9dc0-4242-97a1-0d29c8bbb603",
   "metadata": {},
   "outputs": [
    {
     "data": {
      "text/html": [
       "<div>\n",
       "<style scoped>\n",
       "    .dataframe tbody tr th:only-of-type {\n",
       "        vertical-align: middle;\n",
       "    }\n",
       "\n",
       "    .dataframe tbody tr th {\n",
       "        vertical-align: top;\n",
       "    }\n",
       "\n",
       "    .dataframe thead th {\n",
       "        text-align: right;\n",
       "    }\n",
       "</style>\n",
       "<table border=\"1\" class=\"dataframe\">\n",
       "  <thead>\n",
       "    <tr style=\"text-align: right;\">\n",
       "      <th></th>\n",
       "      <th>title</th>\n",
       "      <th>link</th>\n",
       "      <th>company</th>\n",
       "      <th>location</th>\n",
       "      <th>description</th>\n",
       "      <th>date_added</th>\n",
       "      <th>skills</th>\n",
       "    </tr>\n",
       "  </thead>\n",
       "  <tbody>\n",
       "    <tr>\n",
       "      <th>0</th>\n",
       "      <td>Software Development Engineer in Test</td>\n",
       "      <td>careerjet.pl/jobad/plbaec24941a296374129f0a069...</td>\n",
       "      <td>NaN</td>\n",
       "      <td>NaN</td>\n",
       "      <td>NaN</td>\n",
       "      <td>NaN</td>\n",
       "      <td>NaN</td>\n",
       "    </tr>\n",
       "    <tr>\n",
       "      <th>1</th>\n",
       "      <td>Software Development Engineer in Test</td>\n",
       "      <td>careerjet.pl/jobad/pl0aebd21ce203844c2227dd949...</td>\n",
       "      <td>NaN</td>\n",
       "      <td>NaN</td>\n",
       "      <td>NaN</td>\n",
       "      <td>NaN</td>\n",
       "      <td>NaN</td>\n",
       "    </tr>\n",
       "    <tr>\n",
       "      <th>2</th>\n",
       "      <td>Software Development Engineer in Test</td>\n",
       "      <td>careerjet.pl/jobad/plc9f07a5262f4157450ec5fe06...</td>\n",
       "      <td>NaN</td>\n",
       "      <td>NaN</td>\n",
       "      <td>NaN</td>\n",
       "      <td>NaN</td>\n",
       "      <td>NaN</td>\n",
       "    </tr>\n",
       "    <tr>\n",
       "      <th>3</th>\n",
       "      <td>Software Development Engineer in Test</td>\n",
       "      <td>careerjet.pl/jobad/pl8ca043620f35a2cb25fd68afb...</td>\n",
       "      <td>NaN</td>\n",
       "      <td>NaN</td>\n",
       "      <td>NaN</td>\n",
       "      <td>NaN</td>\n",
       "      <td>NaN</td>\n",
       "    </tr>\n",
       "    <tr>\n",
       "      <th>4</th>\n",
       "      <td>Software Development Engineer in Test</td>\n",
       "      <td>careerjet.pl/jobad/pl6063d8bd71361d945b2d89f9e...</td>\n",
       "      <td>NaN</td>\n",
       "      <td>NaN</td>\n",
       "      <td>NaN</td>\n",
       "      <td>NaN</td>\n",
       "      <td>NaN</td>\n",
       "    </tr>\n",
       "  </tbody>\n",
       "</table>\n",
       "</div>"
      ],
      "text/plain": [
       "                                   title  \\\n",
       "0  Software Development Engineer in Test   \n",
       "1  Software Development Engineer in Test   \n",
       "2  Software Development Engineer in Test   \n",
       "3  Software Development Engineer in Test   \n",
       "4  Software Development Engineer in Test   \n",
       "\n",
       "                                                link  company  location  \\\n",
       "0  careerjet.pl/jobad/plbaec24941a296374129f0a069...      NaN       NaN   \n",
       "1  careerjet.pl/jobad/pl0aebd21ce203844c2227dd949...      NaN       NaN   \n",
       "2  careerjet.pl/jobad/plc9f07a5262f4157450ec5fe06...      NaN       NaN   \n",
       "3  careerjet.pl/jobad/pl8ca043620f35a2cb25fd68afb...      NaN       NaN   \n",
       "4  careerjet.pl/jobad/pl6063d8bd71361d945b2d89f9e...      NaN       NaN   \n",
       "\n",
       "   description  date_added  skills  \n",
       "0          NaN         NaN     NaN  \n",
       "1          NaN         NaN     NaN  \n",
       "2          NaN         NaN     NaN  \n",
       "3          NaN         NaN     NaN  \n",
       "4          NaN         NaN     NaN  "
      ]
     },
     "execution_count": 48,
     "metadata": {},
     "output_type": "execute_result"
    }
   ],
   "source": [
    "df = pd.read_csv('2pages_career_pracuj.csv', index_col=0)\n",
    "df.head()"
   ]
  }
 ],
 "metadata": {
  "kernelspec": {
   "display_name": "venv",
   "language": "python",
   "name": "venv"
  },
  "language_info": {
   "codemirror_mode": {
    "name": "ipython",
    "version": 3
   },
   "file_extension": ".py",
   "mimetype": "text/x-python",
   "name": "python",
   "nbconvert_exporter": "python",
   "pygments_lexer": "ipython3",
   "version": "3.10.9"
  }
 },
 "nbformat": 4,
 "nbformat_minor": 5
}
