{
 "cells": [
  {
   "cell_type": "code",
   "execution_count": 1,
   "id": "52a8bb11-8143-4633-8bd2-ef9be11a6508",
   "metadata": {},
   "outputs": [],
   "source": [
    "import requests\n",
    "import json\n",
    "import pandas as pd\n",
    "import pickle\n",
    "from datetime import datetime, date"
   ]
  },
  {
   "cell_type": "code",
   "execution_count": 2,
   "id": "dc214440-a661-4706-bc41-c34279f8ec30",
   "metadata": {},
   "outputs": [],
   "source": [
    "url = \"https://nofluffjobs.com/api/search/posting?page=1&limit=50&salaryCurrency=PLN&salaryPeriod=month&region=pl\""
   ]
  },
  {
   "cell_type": "code",
   "execution_count": 3,
   "id": "61532bb2-67bd-454f-9e4f-2d4fd2b957fc",
   "metadata": {},
   "outputs": [],
   "source": [
    "search_tech = \"Python\"\n",
    "raw_search = f\"requirement={search_tech}\""
   ]
  },
  {
   "cell_type": "code",
   "execution_count": 4,
   "id": "ee3cee8f-b1a3-4afa-97ec-9f87e122afdb",
   "metadata": {},
   "outputs": [],
   "source": [
    "payload = json.dumps({\n",
    "  \"rawSearch\": raw_search\n",
    "})\n",
    "headers = {\n",
    "  'authority': 'nofluffjobs.com',\n",
    "  'accept': 'application/json, text/plain, */*',\n",
    "  'accept-language': 'pl-PL,pl;q=0.9,en-US;q=0.8,en;q=0.7',\n",
    "  'cache-control': 'no-cache',\n",
    "  'content-type': 'application/postingSearch+json',\n",
    "  'cookie': 'nfj_visited_pl=true; lastSearches=true; OptanonAlertBoxClosed=2023-11-02T15:26:46.991Z; nfj_abt=cat3422%2C0%2C1%3Bldm4333%2C0%2C0%3Bpagesize%2C0%2C0; nfj_redirect_id=00d16475-3c5d-45f3-8ea1-0d8115160a5f; postingApplied_UC5ICGL1=true; nfj_policy_accepted=true; nfj_consents={%22consent_initialized%22:true%2C%22consent_analytics_storage%22:false%2C%22consent_ad_storage%22:false%2C%22consent_functionality_storage%22:false%2C%22onetrust_consent_id%22:%221fb66390-249c-4825-8551-d857cf557193%22%2C%22onetrust_geolocation%22:%22PL%22%2C%22consent_analytics_storage_date%22:%222023-10-25T09:47:48.968Z%22%2C%22consent_functionality_storage_date%22:%222023-10-25T09:47:48.968Z%22%2C%22consent_ad_storage_date%22:%222023-10-25T09:47:48.968Z%22%2C%22first_consent_selection%22:true%2C%22consent_selection_date%22:%222023-10-25T09:47:48.968Z%22}; AMP_MKTG_53ff6cd964=JTdCJTdE; nfj_new_user=true; nfj_session_id=88499a3d-5615-48ca-9bb0-69fd8a9c1fd4.1700752947104; _dcid=88499a3d-5615-48ca-9bb0-69fd8a9c1fd4; nfj_selected_region=PL; country_iso=US; OptanonConsent=isGpcEnabled=0&datestamp=Thu+Nov+23+2023+16%3A23%3A59+GMT%2B0100+(Central+European+Standard+Time)&version=202310.1.0&browserGpcFlag=0&isIABGlobal=false&hosts=&consentId=1fb66390-249c-4825-8551-d857cf557193&interactionCount=2&landingPath=NotLandingPage&AwaitingReconsent=false&groups=C0001%3A1%2CC0002%3A0%2CC0003%3A0%2CC0004%3A0&geolocation=PL%3B10; AMP_53ff6cd964=JTdCJTIyZGV2aWNlSWQlMjIlM0ElMjI4ODQ5OWEzZC01NjE1LTQ4Y2EtOWJiMC02OWZkOGE5YzFmZDQlMjIlMkMlMjJzZXNzaW9uSWQlMjIlM0ExNzAwNzUyOTQ3MTA0JTJDJTIyb3B0T3V0JTIyJTNBZmFsc2UlN0Q=; nfj_last=1700753048139; _dd_s=rum=2&id=7cc82860-2c42-40c2-b559-11a3c23d0017&created=1700752947384&expire=1700753949314',\n",
    "  'nfj-global-context': '{\"region\":\"PL\",\"lang\":\"pl\",\"global_is_employer_logged_in\":false,\"global_is_candidate_logged_in\":false,\"global_internal_traffic\":false,\"global_partnerId\":null,\"global_partnerInternalTraffic\":false,\"global_url\":\"https://nofluffjobs.com/pl/Python?page=1\",\"global_windowResolution\":\"649x919\",\"global_pixelRatio\":1,\"global_screenWidth\":1920,\"global_screenHeight\":1040,\"global_deviceCategory\":\"desktop\",\"global_deviceFamily\":\"Windows\",\"global_userAgent\":\"Mozilla/5.0 (Windows NT 10.0; Win64; x64) AppleWebKit/537.36 (KHTML, like Gecko) Chrome/119.0.0.0 Safari/537.36\",\"global_company_domain\":null}',\n",
    "  'origin': 'https://nofluffjobs.com',\n",
    "  'pragma': 'no-cache',\n",
    "  'referer': 'https://nofluffjobs.com/pl/Python?page=1',\n",
    "  'sec-ch-ua': '\"Google Chrome\";v=\"119\", \"Chromium\";v=\"119\", \"Not?A_Brand\";v=\"24\"',\n",
    "  'sec-ch-ua-mobile': '?0',\n",
    "  'sec-ch-ua-platform': '\"Windows\"',\n",
    "  'sec-fetch-dest': 'empty',\n",
    "  'sec-fetch-mode': 'cors',\n",
    "  'sec-fetch-site': 'same-origin',\n",
    "  'user-agent': 'Mozilla/5.0 (Windows NT 10.0; Win64; x64) AppleWebKit/537.36 (KHTML, like Gecko) Chrome/119.0.0.0 Safari/537.36',\n",
    "  'x-datadog-origin': 'rum',\n",
    "  'x-datadog-parent-id': '8273576369410968673',\n",
    "  'x-datadog-sampling-priority': '1',\n",
    "  'x-datadog-trace-id': '776451047921066142'\n",
    "}"
   ]
  },
  {
   "cell_type": "markdown",
   "id": "482250d4-a5b3-4aa4-b1af-d4813c38f636",
   "metadata": {},
   "source": [
    "### Get the api response and pickle it"
   ]
  },
  {
   "cell_type": "code",
   "execution_count": null,
   "id": "38b88ac7-5320-407f-ac3e-07522f7fe30a",
   "metadata": {},
   "outputs": [],
   "source": [
    "response = requests.request(\"POST\", url, headers=headers, data=payload)\n",
    "with open(f\"fluff_api_{search_tech}.pkl\", \"wb\") as outp:\n",
    "    pickle.dump(response, outp, pickle.HIGHEST_PROTOCOL)\n",
    "# print(response.text)"
   ]
  },
  {
   "cell_type": "code",
   "execution_count": null,
   "id": "b580ed8b-023f-46da-8c47-51fab0b1d582",
   "metadata": {},
   "outputs": [],
   "source": [
    "json_data = response.json()\n",
    "postings = json_data['postings']\n",
    "total_count = json_data['totalCount']\n",
    "total_pages = json_data['totalPages']"
   ]
  },
  {
   "cell_type": "code",
   "execution_count": null,
   "id": "f2876650-8f2b-41c0-9cad-8fe8792a805c",
   "metadata": {},
   "outputs": [],
   "source": [
    "len(postings)"
   ]
  },
  {
   "cell_type": "code",
   "execution_count": null,
   "id": "c0c3d87f-f09d-4a8b-901f-ec878b9494a0",
   "metadata": {},
   "outputs": [],
   "source": [
    "total_pages"
   ]
  },
  {
   "cell_type": "code",
   "execution_count": null,
   "id": "46d4f2ba-2f66-44a6-8788-0a034de1f3f3",
   "metadata": {},
   "outputs": [],
   "source": [
    "initial_fluff_postings = pd.json_normalize(postings)\n",
    "initial_fluff_postings.to_csv('initial_fluff_postings.csv')`"
   ]
  },
  {
   "cell_type": "markdown",
   "id": "2085ee49-ec4c-47c5-a722-89942e546b5d",
   "metadata": {},
   "source": [
    "### Testing of conversions\n",
    "\n",
    "#### from timestamp in milisenconds to date"
   ]
  },
  {
   "cell_type": "code",
   "execution_count": null,
   "id": "a246d4e0-a340-434b-8446-f405394a44af",
   "metadata": {},
   "outputs": [],
   "source": [
    "date_test =  half_df['posted'][0]\n",
    "# date_test = str(date_test).strip()\n",
    "date_test = datetime.fromtimestamp(date_test/1000)\n",
    "print(date_test.date())"
   ]
  }
 ],
 "metadata": {
  "kernelspec": {
   "display_name": "venv",
   "language": "python",
   "name": "venv"
  },
  "language_info": {
   "codemirror_mode": {
    "name": "ipython",
    "version": 3
   },
   "file_extension": ".py",
   "mimetype": "text/x-python",
   "name": "python",
   "nbconvert_exporter": "python",
   "pygments_lexer": "ipython3",
   "version": "3.10.9"
  }
 },
 "nbformat": 4,
 "nbformat_minor": 5
}
